{
  "nbformat": 4,
  "nbformat_minor": 0,
  "metadata": {
    "colab": {
      "provenance": []
    },
    "kernelspec": {
      "name": "python3",
      "display_name": "Python 3"
    },
    "language_info": {
      "name": "python"
    }
  },
  "cells": [
    {
      "cell_type": "code",
      "source": [
        "#@title Defining classes and functions useful for running the SDE estimations\n",
        "# Defining some objects for running Gibbs sampling on different data, and for plotting\n",
        "import numpy as np\n",
        "import matplotlib.pyplot as plt\n",
        "import seaborn as sns\n",
        "from scipy.stats import geninvgauss, gamma, invgamma \n",
        "from datetime import datetime\n",
        "from abc import abstractmethod\n",
        "\n",
        "#function to define gig random variable, even for the edge cases:\n",
        "def gig_rvs(a, b, p, size):\n",
        "  '''\n",
        "  Generate Generalized Inverse Gaussian random variables\n",
        "  \n",
        "  pdf: f(x, a, b, p) = ( (a/b)^{p/2} / (2 K_p(\\sqrt{ab})) ) * x^{p-1} \\exp(-ax + b/x)\n",
        "        where a > 0, b > 0, p is a real number\n",
        "  \n",
        "  when a --> 0, GIG --> InvGamma; \n",
        "  when b --> 0, GIG --> Gamma;\n",
        "  \n",
        "  Special cases:\n",
        "      Gamma(shape=alpha, rate=beta) = GIG(2*beta, 0, alpha)\n",
        "      InvGamma(alpha, beta) = GIG(0, 2*beta, -alpha)\n",
        "      InvGaussian(mu, lambda) = GIG(lambda/mu^2, lambda, −1/2)\n",
        "      Park and Casella’s Lasso(alpha^2) = GIG(alpha^2, 0, 1)\n",
        "  '''\n",
        "  if a == 0 and b == 0:\n",
        "      raise ValueError('GIG can not have input with both a and b being 0')\n",
        "      \n",
        "  if b == 0: # Gamma\n",
        "      shape_gamma = p\n",
        "      rate_gamma = a / 2\n",
        "      rvs = gamma.rvs(a=shape_gamma, scale=1/rate_gamma, size=size)\n",
        "      \n",
        "  if a == 0: # InvGamma\n",
        "      shape_invgamma = -p\n",
        "      scale_invgamma = b / 2\n",
        "      rvs = invgamma.rvs(a=shape_invgamma, scale=scale_invgamma, size=size)\n",
        "      \n",
        "  if a != 0 and b != 0:\n",
        "      p_ss = p\n",
        "      b_ss = np.sqrt(a*b)\n",
        "      scale_ss = np.sqrt(a/b)\n",
        "      rvs = geninvgauss.rvs(p=p_ss, b=b_ss, loc=0, scale=scale_ss, size=size)\n",
        "  \n",
        "  return rvs\n",
        "\n",
        "\n",
        "#a class for running, printing, and calculating error for different priors for the SDE estimation\n",
        "class Prior:\n",
        "  def __init__(self, init_data, b_func, diffusion, kernel_name = 'gauss', m = 15000, n = 20):\n",
        "      self._init_data = init_data\n",
        "      self._kernel = self._set_kernel(kernel_name)\n",
        "      self._b_func = b_func\n",
        "      self.gibbs_iters = 150\n",
        "      self.diffusion = diffusion \n",
        "      self.lambda_mat_record = []\n",
        "      self.beta_record = [] \n",
        "      self.diffusion_est_record = []\n",
        "      #this is based on how the input data was generated:\n",
        "      #I dont have it as an input because all of the data we've generated so far has used t_delta=0.05\n",
        "      self.t_delta = 0.05 \n",
        "      self._m = m\n",
        "      self._n = n\n",
        "      self._b_mdata = None\n",
        "      self._bhat_mdata = None\n",
        "      self._b_cdf = None\n",
        "      self._bhat_cdf = None\n",
        "      self._mse = None\n",
        "      self._kolmogorov = None\n",
        "\n",
        "  #Using the specifications from initialization to set the kernel for the object\n",
        "  def _set_kernel(self, kernel_name):\n",
        "      if kernel_name.lower() == 'gauss':\n",
        "          def kern(x,y): return np.exp(-((x-y)**2)/2)\n",
        "          return kern\n",
        "      if kernel_name.lower() == 'laplace':\n",
        "          def kern(x,y): return np.exp(-abs(x-y)/np.sqrt(2))\n",
        "          return kern\n",
        "      if kernel_name.lower() == 'poly':\n",
        "          order = 3 #TODO: add a way to specify this order when defining the class\n",
        "          def kern(x,y): return np.exp(-abs(x-y)/np.sqrt(2)) (x*y + 1)**order\n",
        "          return kern\n",
        "      \n",
        "  def _create_data(self, s):\n",
        "      t = 0\n",
        "      val = 0\n",
        "      data = []\n",
        "      t_delta = self.t_delta\n",
        "      \n",
        "      if s.lower() == 'b':\n",
        "          def create_next(val):\n",
        "              return val + self._b_func(val)*t_delta + self.diffusion*np.random.normal(0,np.sqrt(t_delta))\n",
        "          \n",
        "          for i in range(int(self._m)):\n",
        "              data.append(val)\n",
        "              val = create_next(val)\n",
        "              t += t_delta\n",
        "          return data\n",
        "      \n",
        "      elif s.lower() == 'bhat':\n",
        "          assert self.beta_record != [], \"Error: trying to generate data with bhat before bhat exists.\"\n",
        "          def create_next(val):\n",
        "              #this should change to use the last x% of data samples, not just beta_record[-20:]\n",
        "              return val + self.get_b_hat(val, np.mean(self.beta_record[-20:], axis = 0))*t_delta + self.diffusion*np.random.normal(0,np.sqrt(t_delta))\n",
        "          for i in range(int(self._m)):\n",
        "              data.append(val)\n",
        "              val = create_next(val)\n",
        "              t += t_delta\n",
        "          return data\n",
        "  \n",
        "  def get_b_hat(self, x, beta_vect):\n",
        "      data = self._init_data\n",
        "      return np.sum([beta_vect[i]*self._kernel(x, data[i]) for i in range(len(data)-1)])\n",
        "  \n",
        "  #define the matrix of k-values (kernel output for each possible pair of data points)\n",
        "  #TODO: I want to try to vectorize this function, which will probably dramatically speed up the simulation speeds\n",
        "  def get_k_matrix(self):\n",
        "      data = self._init_data\n",
        "      k_mat_len = len(data)-1\n",
        "      k_mat = np.zeros((k_mat_len, k_mat_len))\n",
        "      for i in range(k_mat_len):\n",
        "          for j in range(k_mat_len):\n",
        "              k_mat[i][j] = self._kernel(data[i], data[j])\n",
        "      return np.array(k_mat)\n",
        "  \n",
        "  #create the c vector (pretty self-explanatory what this is)\n",
        "  #TODO: would also be good to vectorize this\n",
        "  def get_c_vect(self):\n",
        "      data = self._init_data\n",
        "      c_vect = []\n",
        "      for i in range(1, len(data)):\n",
        "          c_vect.append(data[i] - data[i-1])\n",
        "      return np.array(c_vect)\n",
        "  \n",
        "  #returns the variance matrix\n",
        "  #zeta and t_delta come from the formula that was used to create the data set\n",
        "  #in the case of gibbs sampling, zeta changes for each iteration\n",
        "  def get_variance_matrix(self, k_mat, zeta, lambda_mat):\n",
        "      #perform calculations, as per the formulas that jinpu derived\n",
        "      part_1 = (self.t_delta/zeta)*(k_mat.T @ k_mat)\n",
        "      part_2 = np.linalg.inv(lambda_mat)\n",
        "      return np.linalg.inv(part_1 + part_2)\n",
        "  \n",
        "  #outputs the vector of mean values for each beta_i\n",
        "  def get_mu_vector(self, variance_matrix, zeta, c_vect, k_mat):\n",
        "      kt_times_c = k_mat.T @ c_vect\n",
        "      return np.matmul(variance_matrix/zeta, kt_times_c)\n",
        "\n",
        "  @abstractmethod\n",
        "  def run_gibbs(self, verbose = True):\n",
        "      pass\n",
        "  \n",
        "  def set_metric_data_size(self, m):\n",
        "      assert self._b_mdata != [] and self._bhat_mdata != [], f'Metric test data has already been generated using m = {self.__m}; manually reset __b_mdata and __bhat_mdata to change m'\n",
        "      self._m = m\n",
        "          \n",
        "  def _create_mdata(self, s):\n",
        "      #frankly, this could be turned into a single function,instead of calling the hidden funciton too\n",
        "      if 'bhat' in s.strip():\n",
        "          self._bhat_mdata = self._create_data(s)[int(self._m/10):]\n",
        "      elif 'b' in s.strip():\n",
        "          #the indexing at the end is to remove the first 10% of data\n",
        "          self._b_mdata = self._create_data(s)[int(self._m/10):]\n",
        "      else:\n",
        "          raise Exception('invalid keyword for _create_mdata')\n",
        "  \n",
        "  #plots a histogram of the data that is available\n",
        "  def data_hist(self,s, smoothing = True):\n",
        "    if smoothing:\n",
        "      if 'bhat' == s.lower():\n",
        "          if self._bhat_mdata != None:\n",
        "              sns.displot(self._bhat_mdata, kind = \"kde\", fill = True)\n",
        "              plt.title(\"bhat generated data histogram\")\n",
        "              plt.show()  \n",
        "          else: raise Exception(\"cannot make a histogram for data that doesn't exist yet (bhat)\")\n",
        "      elif \"b\" == s.lower():\n",
        "          if self._b_mdata != None:\n",
        "              sns.displot(self._b_mdata, kind = \"kde\", fill = True)\n",
        "              plt.title(\"true b generated data histogram\")\n",
        "              plt.show()\n",
        "          else:\n",
        "              raise Exception(\"cannot make a histogram for data that doesn't exist yet (b)\")\n",
        "      elif s.lower() == 'original':\n",
        "          sns.displot(self._init_data, kind = \"kde\", fill = True)\n",
        "          plt.title(\"True b original learning data histogram\")\n",
        "          plt.show()\n",
        "      else:\n",
        "          raise Exception('invalid keyword for data_hist; use \"bhat\", \"b\", or \"original\".')\n",
        "    else:\n",
        "      if 'bhat' == s.lower():\n",
        "          if self._bhat_mdata != None:\n",
        "              sns.displot(self._bhat_mdata, bins = 100, stat ='density')\n",
        "              plt.title(\"bhat generated data histogram\")\n",
        "              plt.show()  \n",
        "          else: raise Exception(\"cannot make a histogram for data that doesn't exist yet (bhat)\")\n",
        "      elif \"b\" == s.lower():\n",
        "          if self._b_mdata != None:\n",
        "              sns.displot(self._b_mdata, bins = 100, stat ='density')\n",
        "              plt.title(\"true b generated data histogram\")\n",
        "              plt.show()\n",
        "          else:\n",
        "              raise Exception(\"cannot make a histogram for data that doesn't exist yet (b)\")\n",
        "      elif s.lower() == 'original':\n",
        "          sns.displot(self._init_data, bins = 100, stat ='density')\n",
        "          plt.title(\"True b original learning data histogram\")\n",
        "          plt.show()\n",
        "      else:\n",
        "          raise Exception('invalid keyword for data_hist; use \"bhat\", \"b\", or \"original\".')\n",
        "  def plot_b_vs_bhat(self):\n",
        "      # plotting bhat using the averaged last n values recorded from gibbs\n",
        "      # can be made more efficient\n",
        "      n = self._n\n",
        "      x_vals = self._init_data\n",
        "      last_n_beta_avg = np.mean(np.array(self.beta_record[-n:]), axis = 0)\n",
        "      avgd_beta_est = [self.get_b_hat(x, last_n_beta_avg) for x in x_vals]\n",
        "      plt.scatter(x_vals, avgd_beta_est, c = 'red', label = f'Approximated b, averaged last {n} gibbs samples', s= 2)\n",
        "      plt.scatter(x_vals, [self._b_func(x) for x in x_vals], c = 'blue', label = 'True b', s= 2)\n",
        "      \n",
        "  def plot_shrinkage(self):\n",
        "      last_beta = self.beta_record[-1]\n",
        "      plt.hist(last_beta, bins = 50)\n",
        "  \n",
        "  def find_mse(self):\n",
        "      #when sampling the last few values of beta to get bhat, do we \n",
        "      # 1) average n beta vectors, then calc the bhat values using the average, or\n",
        "      #2) calc bhat values for n different beta vectors, and average the bhat values?\n",
        "      #hypothesis: betas are the thing being sampled, so we should average them first.\n",
        "      if self._mse == None:\n",
        "          n = self._n\n",
        "          data = self._init_data\n",
        "          self._mse = (1/len(data))*np.sum(np.array([self.get_b_hat(x, \n",
        "              np.mean(np.array(self.beta_record[-n:]), axis = 0)) - self._b_func(x) for x in data])**2)\n",
        "      else: raise Exception('no point recalculating mse error; you can use \"return_mse()\" to output it.')\n",
        "  \n",
        "  def return_mse(self):\n",
        "      return self._mse\n",
        "  \n",
        "  def _calc_cdf(self, s):\n",
        "      if 'bhat' == s.lower():\n",
        "          self._bhat_cdf = (1/len(self._bhat_mdata))*np.array([np.sum(np.where(np.array(self._bhat_mdata) <= x, 1, 0)) for x in self._init_data])\n",
        "      elif 'b' == s.lower():\n",
        "          self._b_cdf = (1/len(self._b_mdata))*np.array([np.sum(np.where(np.array(self._b_mdata) <= x, 1, 0)) for x in self._init_data])\n",
        "      else: \n",
        "          raise Exception('must call _calc_cdf using string \"bhat\" or \"b\".')\n",
        "      \n",
        "  def find_kolmogorov(self):\n",
        "      if self._kolmogorov == None:\n",
        "          self._create_mdata('b')\n",
        "          self._create_mdata('bhat')\n",
        "          self._calc_cdf('bhat')\n",
        "          self._calc_cdf('b')\n",
        "          self._kolmogorov = np.max(np.absolute(self._b_cdf - self._bhat_cdf))\n",
        "          \n",
        "  def return_kolmogorov(self):\n",
        "      return self._kolmogorov\n",
        "\n",
        "#a child of the Prior class; Gig (generalized inverse gaussian)\n",
        "class Gig(Prior):\n",
        "  def __init__(self, init_data, b_func, diffusion, kernel_name = 'gauss', m = 100000, n = 20, gig_params = [2,2,1,0,1]):\n",
        "    super().__init__(init_data, b_func, diffusion, kernel_name = 'gauss', m = 100000, n = 20)\n",
        "    self._gig_params = gig_params #default is a=1 b=0 p=1 for lasso prior (see run_gibbs method)\n",
        "\n",
        "  def run_gibbs(self, verbose = True):\n",
        "    k_mat = self.get_k_matrix()\n",
        "    c_vect = self.get_c_vect()\n",
        "    data_len= len(self._init_data)\n",
        "    #TODO add a way to specify these following starting priors; \n",
        "    #right now just set to diffusion = 0.5 and beta = np.zeros()\n",
        "    zeta = 0.5**2 #a scalar (noise coeff)\n",
        "    beta = np.zeros(data_len) #a vector (beta coeffs)\n",
        "    lambda_mat = np.identity(data_len - 1)\n",
        "    \n",
        "    #NOTE: _gig_params in order [c,d,a,b,p] (the last three specify gig.rvs)\n",
        "    c,d,a,b,p = self._gig_params\n",
        "    c_prime = c + (data_len-1)/2\n",
        "    t_delta = self.t_delta\n",
        "    assert self.lambda_mat_record == [] and self.beta_record == [] and self.diffusion_est_record == [], 'you have already ran the gibbs process for this object; run obj.reset to forget these results'\n",
        "    \n",
        "    for i in range(self.gibbs_iters):\n",
        "        #draw a diagonal matrix of lambda^2 values, using the inverse gamma distribution\n",
        "        #this replaces the 1 values inside of lambda_mat\n",
        "        np.fill_diagonal(lambda_mat, [gig_rvs(a, (beta[i]**2+b), p - 1/2, 1) for i in range(data_len - 1)])\n",
        "        #Don't know if this shoul dbe there; it seems to really mess up results:\n",
        "        # lambda_mat = lambda_mat**2 \n",
        "        #use this matrix to compute the matrix and covariance for beta vector\n",
        "        #sample from these values\n",
        "        variance_matrix = self.get_variance_matrix(k_mat, zeta, lambda_mat)\n",
        "        mu_vect = self.get_mu_vector(variance_matrix, zeta, c_vect, k_mat)\n",
        "        beta = np.random.multivariate_normal(mu_vect,variance_matrix)\n",
        "        \n",
        "        #draw a new guess for zeta given the beta and lambda_mat values\n",
        "        #it is an inverse gamme of c_prime and d_prime, defined below\n",
        "        d_prime_1 = (1/(2*t_delta))*np.sum(c_vect**2)\n",
        "        d_prime_2 = t_delta/2* (beta.T @ (k_mat.T @ (k_mat @ beta))) - c_vect.T @ (k_mat @ beta) + d\n",
        "        d_prime = d_prime_1 + d_prime_2\n",
        "        zeta = 1/np.random.gamma(shape = c_prime, scale = 1/d_prime)\n",
        "        \n",
        "        #keeping track of things here\n",
        "        if verbose:\n",
        "            if i%25 == 0:\n",
        "              print(f'step {i} completed')\n",
        "        self.lambda_mat_record.append(lambda_mat)\n",
        "        self.beta_record.append(beta)\n",
        "        self.diffusion_est_record.append(zeta)\n",
        "\n",
        "  def plot_b_vs_bhat(self):\n",
        "    super().plot_b_vs_bhat()\n",
        "    plt.title(f'graph using GIG Prior (params a,b,p = {self._gig_params[2:]})')\n",
        "    plt.legend()\n",
        "    plt.show()\n",
        "\n",
        "  def plot_shrinkage(self):\n",
        "    super().plot_shrinkage()\n",
        "    plt.title('GIG: final beta sample/shrinkage plot')\n",
        "    plt.show()\n",
        "\n",
        "\n",
        "#a very similar class, but now for inverse gamma gibbs smapling, rather than generalized inverse gauss (IG vs GIG)\n",
        "class Ig(Prior):\n",
        "  def __init__(self, init_data, b_func, diffusion, kernel_name = 'gauss', m = 100000, n = 20, ig_params = [2,2,1,2]):\n",
        "    super().__init__(init_data, b_func, diffusion, kernel_name = 'gauss', m = 100000, n = 20)\n",
        "    self._ig_params = ig_params #the default is to test the t-prior here\n",
        "        \n",
        "  def run_gibbs(self, verbose = True):\n",
        "      k_mat = self.get_k_matrix()\n",
        "      c_vect = self.get_c_vect()\n",
        "      data_len= len(self._init_data)\n",
        "      #TODO add a way to specify these following starting priors; \n",
        "      #right now just set to diffusion = 0.5 and beta = np.zeros()\n",
        "      zeta = 0.5**2 #a scalar (noise coeff)\n",
        "      beta = np.zeros(data_len) #a vector (beta coeffs)\n",
        "      lambda_mat = np.identity(data_len - 1)\n",
        "      \n",
        "      c,d,a,b = self._ig_params\n",
        "      c_prime = c + (data_len-1)/2\n",
        "      t_delta = self.t_delta\n",
        "      assert self.lambda_mat_record == [] and self.beta_record == [] and self.diffusion_est_record == [], 'you have already ran the gibbs process for this object; run obj.reset to forget these results'\n",
        "      \n",
        "      for i in range(self.gibbs_iters):\n",
        "          #draw a diagonal matrix of lambda^2 values, using the inverse gamma distribution\n",
        "          #this replaces the 1 values inside of lambda_mat\n",
        "          np.fill_diagonal(lambda_mat, [1/np.random.gamma(a + 1/2, 1/(b + (1/2) * beta[i]**2)) for i in range(data_len - 1)])\n",
        "          #Don't know if this shoul dbe there; it seems to really mess up results:\n",
        "          # lambda_mat = lambda_mat**2 \n",
        "          #use this matrix to compute the matrix and covariance for beta vector\n",
        "          #sample from these values\n",
        "          variance_matrix = self.get_variance_matrix(k_mat, zeta, lambda_mat)\n",
        "          mu_vect = self.get_mu_vector(variance_matrix, zeta, c_vect, k_mat)\n",
        "          beta = np.random.multivariate_normal(mu_vect,variance_matrix)\n",
        "          \n",
        "          #draw a new guess for zeta given the beta and lambda_mat values\n",
        "          #it is an inverse gamme of c_prime and d_prime, defined below\n",
        "          d_prime_1 = (1/(2*t_delta))*np.sum(c_vect**2)\n",
        "          d_prime_2 = t_delta/2* (beta.T @ (k_mat.T @ (k_mat @ beta))) - c_vect.T @ (k_mat @ beta) + d\n",
        "          d_prime = d_prime_1 + d_prime_2\n",
        "          zeta = 1/np.random.gamma(shape = c_prime, scale = 1/d_prime)\n",
        "          \n",
        "          #keeping track of things here\n",
        "          if verbose:\n",
        "              if i%25 == 0:\n",
        "                  print(f'step {i} completed')\n",
        "          self.lambda_mat_record.append(lambda_mat)\n",
        "          self.beta_record.append(beta)\n",
        "          self.diffusion_est_record.append(zeta)\n",
        "    \n",
        "  def plot_b_vs_bhat(self):\n",
        "      # plotting bhat using the averaged last n values recorded from gibbs\n",
        "      super().plot_b_vs_bhat()\n",
        "      plt.title(f'graph using Inverse Gamma prior (params [a, b] = {self._ig_params[-2:]}')\n",
        "      plt.legend()\n",
        "      plt.show()\n",
        "      \n",
        "  def plot_shrinkage(self):\n",
        "      super().plot_shrinkage()\n",
        "      plt.title('IG: final beta sample/shrinkage plot')\n",
        "      plt.show()\n",
        "\n",
        "#a very similar class, but now for inverse gamma gibbs smapling, rather than generalized inverse gauss (IG vs GIG)\n",
        "class Shoe(Prior):\n",
        "  def __init__(self, init_data, b_func, diffusion, kernel_name = 'gauss', m = 2000, n = 20):\n",
        "      super().__init__(init_data, b_func, diffusion, kernel_name = 'gauss', m = 100000, n = 20)\n",
        "\n",
        "  def run_gibbs(self, verbose = True):\n",
        "      k_mat = self.get_k_matrix()\n",
        "      c_vect = self.get_c_vect()\n",
        "      data_len= len(self._init_data)\n",
        "      #TODO add a way to specify these following starting priors; \n",
        "      #right now just set to diffusion = 0.5 and beta = np.zeros()\n",
        "      zeta_sq = 1/np.random.gamma(1, 1/2) #The noise coefficient (squared), prior is from inverse gamma (a = 1, b = 2; these are not specific)\n",
        "      #new variables for the gibbs process\n",
        "      xi = np.random.gamma(1/2,1) \n",
        "      eps = np.array([np.random.gamma(1/2, 1) for i in range(data_len- 1)])\n",
        "      tau_sq = 1/np.random.gamma(1/2, xi)\n",
        "      lambda_mat = np.identity(data_len - 1)\n",
        "      #classic beta vector and lambda matrix for gibbs:\n",
        "      np.fill_diagonal(lambda_mat, [1/np.random.gamma(1/2, eps[i]) for i in range(data_len - 1)])\n",
        "      beta = np.array([np.random.normal(0,lambda_mat[i,i]*tau_sq) for i in range(data_len - 1)]) #a vector (beta coeffs)  \n",
        "      #idk if these next variables are right; I made them up to fit the code but they could be improper\n",
        "      a, c, d = 0.5, 1, 1\n",
        "      c_prime = c + (data_len-1)/2 \n",
        "      t_delta = self.t_delta\n",
        "      assert self.lambda_mat_record == [] and self.beta_record == [] and self.diffusion_est_record == [], 'you have already ran the gibbs process for this object; run obj.reset to forget these results'\n",
        "      \n",
        "      for i in range(self.gibbs_iters):\n",
        "          #draw a diagonal matrix of lambda^2 values, using the inverse gamma distribution\n",
        "          #this replaces the 1 values inside of lambda_mat\n",
        "          np.fill_diagonal(lambda_mat, [1/np.random.gamma(1, 1/(1/eps[i] + (1/2)*tau_sq*beta[i]**2)) for i in range(data_len - 1)])\n",
        "          #Don't know if this shoul dbe there; it seems to really mess up results:\n",
        "          # lambda_mat = lambda_mat**2 \n",
        "          #use this matrix to compute the matrix and covariance for beta vector\n",
        "          #sample from these values\n",
        "          variance_matrix = self.get_variance_matrix(k_mat, zeta_sq, lambda_mat)\n",
        "          mu_vect = self.get_mu_vector(variance_matrix, zeta_sq, c_vect, k_mat)\n",
        "          beta = np.random.multivariate_normal(mu_vect,variance_matrix)\n",
        "          \n",
        "          #draw a new guess for zeta_sq given the beta and lambda_mat values\n",
        "          #it is an inverse gamme of c_prime and d_prime, defined below\n",
        "          d_prime_1 = (1/(2*t_delta))*np.sum(c_vect**2)\n",
        "          d_prime_2 = t_delta/2* (beta.T @ (k_mat.T @ (k_mat @ beta))) - c_vect.T @ (k_mat @ beta) + d\n",
        "          d_prime = d_prime_1 + d_prime_2\n",
        "          zeta_sq = 1/np.random.gamma(shape = c_prime, scale = 1/d_prime)\n",
        "          \n",
        "          #new variable changes\n",
        "          tau_arg2 = max([0.0001,1/(1/2*np.sum(np.array([beta[i]/lambda_mat[i,i] for i in range(data_len - 1)]))+1/xi)])\n",
        "          tau_sq = 1/np.random.gamma(data_len/2, tau_arg2)\n",
        "          eps = np.array([1/np.random.gamma(1, 1/(1/lambda_mat[i,i] + 1)) for i in range(data_len - 1)])\n",
        "          xi = 1/np.random.gamma(1, 1/(1/tau_sq + 1))\n",
        "\n",
        "          #keeping track of things here\n",
        "          if verbose:\n",
        "              if i%25 == 0:\n",
        "                  print(f'step {i} completed')\n",
        "          self.lambda_mat_record.append(lambda_mat)\n",
        "          self.beta_record.append(beta)\n",
        "          self.diffusion_est_record.append(zeta_sq)\n",
        "          \n",
        "  def plot_b_vs_bhat(self):\n",
        "      # plotting bhat using the averaged last n values recorded from gibbs\n",
        "      super().plot_b_vs_bhat()\n",
        "      plt.title(f'graph using Horseshoe Prior')\n",
        "      plt.legend()\n",
        "      plt.show()\n",
        "      \n",
        "  def plot_shrinkage(self):\n",
        "      super().plot_shrinkage()\n",
        "      plt.title('Horseshoe: final beta shrinkage plot')\n",
        "      plt.show()"
      ],
      "metadata": {
        "id": "YBJCrQnCGNDD",
        "cellView": "form"
      },
      "execution_count": 21,
      "outputs": []
    },
    {
      "cell_type": "code",
      "execution_count": 14,
      "metadata": {
        "id": "oVtrPXnKXmeC",
        "cellView": "form"
      },
      "outputs": [],
      "source": [
        "#@title More Helper Functions\n",
        "def create_data(diffusion, b_func, t_delta, t_end, start_val):\n",
        "    t = 0\n",
        "    val = start_val\n",
        "    data = []\n",
        "    \n",
        "    def create_next(val):\n",
        "        return val + b_func(val)*t_delta + diffusion*np.random.normal(0,np.sqrt(t_delta))\n",
        "    \n",
        "    while t < t_end - t_delta:\n",
        "        data.append(val)\n",
        "        val = create_next(val)\n",
        "        t += t_delta\n",
        "\n",
        "    return data\n",
        "\n",
        "def check_start_data(b_func, diffusion, t_end):\n",
        "    init_data = create_data(diffusion, b_func, 0.05, t_end, 0)\n",
        "    plt.hist(init_data, bins = 100, density = True)\n",
        "    plt.show()\n",
        "    s = input('Are you happy with the way this data looks? [y/n]\\n')\n",
        "    while s.lower() != 'y':\n",
        "        init_data = create_data(diffusion, b_func, 0.05, t_end, 0)\n",
        "        plt.hist(init_data, bins = 100, density = True)\n",
        "        plt.show()\n",
        "        s = input('Are you happy with the way this data looks? [y/n] \\n')\n",
        "    return init_data\n",
        "\n",
        "def do_calcs_and_save_errors(sde_obj, name):\n",
        "    if input(f'Do you want to run the gibbs process for {name}? [y/n] \\n').lower() =='y':\n",
        "        sde_obj.run_gibbs()\n",
        "        sde_obj.plot_b_vs_bhat()\n",
        "        sde_obj.find_mse()\n",
        "        sde_obj.find_kolmogorov() #in this function, check if CDF exists and ask to create it if not\n",
        "        mse = sde_obj.return_mse()\n",
        "        kolmo = sde_obj.return_kolmogorov()\n",
        "        sde_obj.data_hist(\"b\")\n",
        "        sde_obj.data_hist(\"bhat\")\n",
        "        sde_obj.plot_shrinkage()\n",
        "        print(f'MSE for {name} = {mse}.\\nKolmogorov Error for {name} = {kolmo}')\n",
        "    \n",
        "        now = datetime.now()\n",
        "        dt_string = now.strftime(\"%d-%m-%Y_%H-%M\")\n",
        "        np.save(f'{name}_MSE_Kolmo_{dt_string}', np.array(mse, kolmo))\n",
        "    else: \n",
        "        raise Exception('Gibbs process cancelled')\n",
        "\n",
        "#for general use: code that does n runs of the gibbs process and returns the mse/kol values!\n",
        "def avg_n(n, init_data, b, diffusion, Cls):\n",
        "  trials = n\n",
        "  mse = np.zeros(trials)\n",
        "  kol = np.zeros(trials)\n",
        "  for i in range(trials):\n",
        "    print(f'run {i}')\n",
        "    sde_obj = Cls(init_data, b, diffusion)\n",
        "    sde_obj.run_gibbs(verbose = False)\n",
        "    sde_obj.find_mse()\n",
        "    sde_obj.find_kolmogorov()\n",
        "    mse[i] = sde_obj.return_mse()\n",
        "    kol[i] = sde_obj.return_kolmogorov()\n",
        "  #plotting the shrinkage graph for the last of the ten runs\n",
        "  sde_obj.plot_shrinkage()\n",
        "  return mse, kol\n",
        "\n",
        "def run_all_processes(params):\n",
        "    results = {}\n",
        "    grid = [(func_name, init_data, b, diffusion, Cls) for func_name, init_data, b, diffusion in params for Cls in [Gig, Ig, Shoe]]\n",
        "    for func_name, init_data, b, diffusion, Cls in grid:\n",
        "        print(f'with b = {func_name} and Cls = {Cls}...')\n",
        "        #need to write mse and kolmo values to some dataframe (dict for now) to view it\n",
        "        mse, kol = avg_n(5, init_data, b, diffusion, Cls)\n",
        "        if Cls == Ig: id = func_name + '; Ig'\n",
        "        elif Cls == Gig: id = func_name + '; Gig'\n",
        "        elif Cls == Shoe: id = func_name + '; Shoe'\n",
        "        results[id] = mse, kol\n",
        "    return results\n",
        "\n",
        "#quick wrapper for generating data and showing histogram\n",
        "def gen_data_and_hist(b, diff):\n",
        "    init_data = create_data(diff, b, 0.05, 50, 0)\n",
        "    plt.hist(init_data, bins = 100, density = True)\n",
        "    plt.show()\n",
        "    return init_data\n",
        "#function for making the list of params to run through the run_all_processes function\n",
        "#basically, for each b, find a diffusion coefficient and data set that looks good and add them to the list\n",
        "#input is a 2d array (nx2) where each entry is [b,diffusion] (there are n number of b functions we are looking at)\n",
        "def make_params(b_diff_list):\n",
        "    params = []\n",
        "    for func_name, b, diff in b_diff_list:\n",
        "        init_data = gen_data_and_hist(b, diff)\n",
        "        while True:\n",
        "            s = input('Enter \"y\" to use this data, \"n\" to make data again with this diffusion, \\nor a number from 0.1 - 1.5 to make new data with diff = num: ')\n",
        "            if s == 'y':\n",
        "                break\n",
        "            elif s == 'n':\n",
        "                init_data = gen_data_and_hist(b, diff)\n",
        "            elif float(s) <= 1.5 and float(s) >= 0.1:\n",
        "                diff = float(s)\n",
        "                init_data = gen_data_and_hist(b, diff)\n",
        "        params.append([func_name, init_data, b, diff])\n",
        "    return params"
      ]
    },
    {
      "cell_type": "code",
      "source": [
        "b_diff_list = [['b = -x', lambda x: -x, 1],\n",
        "               ['b = 4*(x-x**3)', lambda x: 4*(x-x**3), 0.8],\n",
        "               ['b = -(x**3)/(1+x**2)', lambda x: -(x**3)/(1+x**2), 0.2],\n",
        "               ['b = -x*(1 + 0.5*np.sin(x))', lambda x: -x*(1 + 0.5*np.sin(x)), 0.2],\n",
        "               ['b = 4*(1-x*(np.sin(x)**2 + 0.1))', lambda x: 4*(1-x*(np.sin(x)**2 + 0.1)), 0.5]]\n",
        "# params = make_params(b_diff_list)"
      ],
      "metadata": {
        "id": "NJSN56vQu7OD"
      },
      "execution_count": 15,
      "outputs": []
    },
    {
      "cell_type": "code",
      "source": [
        "results = run_all_processes(params)"
      ],
      "metadata": {
        "id": "BiZmX6TicnQt"
      },
      "execution_count": null,
      "outputs": []
    },
    {
      "cell_type": "code",
      "source": [
        "# mse = np.array([np.mean(v[0]) for v in results.values()])\n",
        "# kolmo = np.array([np.mean(v[1]) for v in results.values()])"
      ],
      "metadata": {
        "id": "tW9fqcZwQVvM"
      },
      "execution_count": null,
      "outputs": []
    },
    {
      "cell_type": "code",
      "source": [
        "np.save('my_file.npy', results) "
      ],
      "metadata": {
        "id": "bGRpgVdBw3Pd"
      },
      "execution_count": null,
      "outputs": []
    },
    {
      "cell_type": "code",
      "source": [
        "#running for b(x) = 4(x-x^3)\n",
        "# t_end = 50\n",
        "  \n",
        "# diffusion = 0.8\n",
        "# def b(val): return 4*(val-val**3)\n",
        "# init_data = check_start_data(b, diffusion, t_end)\n",
        "\n",
        "# gig_sin = Gig(init_data, b, diffusion)\n",
        "# do_calcs_and_save_errors(gig_sin, 'GIG_sin')\n",
        "# ig_sin = Ig(init_data, b, diffusion)\n",
        "# do_calcs_and_save_errors(ig_sin, 'T-prior_sin')"
      ],
      "metadata": {
        "id": "KoIq2ZRZsB2g"
      },
      "execution_count": null,
      "outputs": []
    },
    {
      "cell_type": "code",
      "source": [
        "#@title Double Well data setup\n",
        "#Setting up the data for the double well (run the cells below once you generate data you are happy with)\n",
        "t_end = 50\n",
        "diffusion = 0.8\n",
        "b = b_diff_list[1][1]\n",
        "init_data = check_start_data(b, diffusion, t_end)\n",
        "#@title Double Well Gibbs Process + Graphing\n",
        "gig_dw = Gig(init_data, b, diffusion)\n",
        "do_calcs_and_save_errors(gig_dw, 'GIG_doubleWell')\n",
        "ig_dw = Ig(init_data, b, diffusion)\n",
        "do_calcs_and_save_errors(ig_dw, 'T-prior_doubleWell')\n",
        "shoe_dw = Shoe(init_data, b, diffusion)\n",
        "do_calcs_and_save_errors(shoe_dw, 'HorseShoe_doubleWell')"
      ],
      "metadata": {
        "id": "bMFY8im_aCt2",
        "colab": {
          "base_uri": "https://localhost:8080/",
          "height": 1000
        },
        "outputId": "8e7cbcfe-3f08-4ce7-f604-8aba24ce85e8"
      },
      "execution_count": 18,
      "outputs": [
        {
          "output_type": "display_data",
          "data": {
            "text/plain": [
              "<Figure size 432x288 with 1 Axes>"
            ],
            "image/png": "[encoded data removed]"
          },
          "metadata": {
            "needs_background": "light"
          }
        },
        {
          "output_type": "stream",
          "name": "stdout",
          "text": [
            "Are you happy with the way this data looks? [y/n]\n",
            "y\n",
            "Do you want to run the gibbs process for GIG_doubleWell? [y/n] \n",
            "y\n",
            "step 0 completed\n"
          ]
        },
        {
          "output_type": "stream",
          "name": "stderr",
          "text": [
            "/usr/local/lib/python3.7/dist-packages/ipykernel_launcher.py:269: RuntimeWarning: covariance is not positive-semidefinite.\n"
          ]
        },
        {
          "output_type": "stream",
          "name": "stdout",
          "text": [
            "step 25 completed\n",
            "step 50 completed\n",
            "step 75 completed\n",
            "step 100 completed\n",
            "step 125 completed\n"
          ]
        },
        {
          "output_type": "display_data",
          "data": {
            "text/plain": [
              "<Figure size 432x288 with 1 Axes>"
            ],
            "image/png": "[encoded data removed]"
          },
          "metadata": {
            "needs_background": "light"
          }
        },
        {
          "output_type": "display_data",
          "data": {
            "text/plain": [
              "<Figure size 432x288 with 1 Axes>"
            ],
            "image/png": "[encoded data removed]"
          },
          "metadata": {
            "needs_background": "light"
          }
        },
        {
          "output_type": "display_data",
          "data": {
            "text/plain": [
              "<Figure size 432x288 with 1 Axes>"
            ],
            "image/png": "[encoded data removed]"
          },
          "metadata": {
            "needs_background": "light"
          }
        },
        {
          "output_type": "display_data",
          "data": {
            "text/plain": [
              "<Figure size 432x288 with 1 Axes>"
            ],
            "image/png": "[encoded data removed]"
          },
          "metadata": {
            "needs_background": "light"
          }
        },
        {
          "output_type": "stream",
          "name": "stdout",
          "text": [
            "MSE for GIG_doubleWell = 0.14669902566323628.\n",
            "Kolmogorov Error for GIG_doubleWell = 0.13793333333333324\n",
            "Do you want to run the gibbs process for T-prior_doubleWell? [y/n] \n",
            "y\n",
            "step 0 completed\n"
          ]
        },
        {
          "output_type": "stream",
          "name": "stderr",
          "text": [
            "/usr/local/lib/python3.7/dist-packages/ipykernel_launcher.py:329: RuntimeWarning: covariance is not positive-semidefinite.\n"
          ]
        },
        {
          "output_type": "stream",
          "name": "stdout",
          "text": [
            "step 25 completed\n",
            "step 50 completed\n",
            "step 75 completed\n",
            "step 100 completed\n",
            "step 125 completed\n"
          ]
        },
        {
          "output_type": "display_data",
          "data": {
            "text/plain": [
              "<Figure size 432x288 with 1 Axes>"
            ],
            "image/png": "[encoded data removed]"
          },
          "metadata": {
            "needs_background": "light"
          }
        },
        {
          "output_type": "display_data",
          "data": {
            "text/plain": [
              "<Figure size 432x288 with 1 Axes>"
            ],
            "image/png": "[encoded data removed]"
          },
          "metadata": {
            "needs_background": "light"
          }
        },
        {
          "output_type": "display_data",
          "data": {
            "text/plain": [
              "<Figure size 432x288 with 1 Axes>"
            ],
            "image/png": "[encoded data removed]"
          },
          "metadata": {
            "needs_background": "light"
          }
        },
        {
          "output_type": "display_data",
          "data": {
            "text/plain": [
              "<Figure size 432x288 with 1 Axes>"
            ],
            "image/png": "[encoded data removed]"
          },
          "metadata": {
            "needs_background": "light"
          }
        },
        {
          "name": "stdout",
          "output_type": "stream",
          "text": [
            "MSE for T-prior_doubleWell = 0.18883756836997131.\n",
            "Kolmogorov Error for T-prior_doubleWell = 0.2718111111111111\n",
            "Do you want to run the gibbs process for HorseShoe_doubleWell? [y/n] \n",
            "y\n"
          ]
        },
        {
          "output_type": "stream",
          "name": "stderr",
          "text": [
            "/usr/local/lib/python3.7/dist-packages/ipykernel_launcher.py:394: RuntimeWarning: covariance is not positive-semidefinite.\n"
          ]
        },
        {
          "output_type": "stream",
          "name": "stdout",
          "text": [
            "step 0 completed\n",
            "step 25 completed\n",
            "step 50 completed\n",
            "step 75 completed\n",
            "step 100 completed\n",
            "step 125 completed\n"
          ]
        },
        {
          "output_type": "display_data",
          "data": {
            "text/plain": [
              "<Figure size 432x288 with 1 Axes>"
            ],
            "image/png": "[encoded data removed]"
          },
          "metadata": {
            "needs_background": "light"
          }
        },
        {
          "output_type": "display_data",
          "data": {
            "text/plain": [
              "<Figure size 432x288 with 1 Axes>"
            ],
            "image/png": "[encoded data removed]"
          },
          "metadata": {
            "needs_background": "light"
          }
        },
        {
          "output_type": "display_data",
          "data": {
            "text/plain": [
              "<Figure size 432x288 with 1 Axes>"
            ],
            "image/png": "[encoded data removed]"
          },
          "metadata": {
            "needs_background": "light"
          }
        },
        {
          "output_type": "display_data",
          "data": {
            "text/plain": [
              "<Figure size 432x288 with 1 Axes>"
            ],
            "image/png": "[encoded data removed]"
          },
          "metadata": {
            "needs_background": "light"
          }
        },
        {
          "output_type": "stream",
          "name": "stdout",
          "text": [
            "MSE for HorseShoe_doubleWell = 0.08010805989124714.\n",
            "Kolmogorov Error for HorseShoe_doubleWell = 0.18657777777777784\n"
          ]
        }
      ]
    },
    {
      "cell_type": "code",
      "source": [],
      "metadata": {
        "id": "nU7OTbt5syaZ"
      },
      "execution_count": null,
      "outputs": []
    }
  ]
}