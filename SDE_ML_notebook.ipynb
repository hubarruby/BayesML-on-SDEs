{
  "nbformat": 4,
  "nbformat_minor": 0,
  "metadata": {
    "colab": {
      "provenance": []
    },
    "kernelspec": {
      "name": "python3",
      "display_name": "Python 3"
    },
    "language_info": {
      "name": "python"
    }
  },
  "cells": [
    {
      "cell_type": "code",
      "execution_count": null,
      "metadata": {
        "id": "oVtrPXnKXmeC"
      },
      "outputs": [],
      "source": [
        "#@title Defining classes and functions useful for running the SDE estimations\n",
        "# Defining some objects for running Gibbs sampling on different data, and for plotting\n",
        "import numpy as np\n",
        "import matplotlib.pyplot as plt\n",
        "from scipy.stats import geninvgauss, gamma, invgamma \n",
        "from datetime import datetime\n",
        "\n",
        "def create_data(diffusion, b_func, t_delta, t_end, start_val):\n",
        "    t = 0\n",
        "    val = start_val\n",
        "    data = []\n",
        "    \n",
        "    def create_next(val):\n",
        "        return val + b_func(val)*t_delta + diffusion*np.random.normal(0,np.sqrt(t_delta))\n",
        "    \n",
        "    while t < t_end - t_delta:\n",
        "        data.append(val)\n",
        "        val = create_next(val)\n",
        "        t += t_delta\n",
        "\n",
        "    return data\n",
        "\n",
        "def check_start_data(b_func, diffusion, t_end):\n",
        "    init_data = create_data(diffusion, b_func, 0.05, t_end, 0)\n",
        "    plt.hist(init_data, bins = 100, density = True)\n",
        "    plt.show()\n",
        "    s = input('Are you happy with the way this data looks? [y/n]\\n')\n",
        "    while s.lower() != 'y':\n",
        "        init_data = create_data(diffusion, b_func, 0.05, t_end, 0)\n",
        "        plt.hist(init_data, bins = 100, density = True)\n",
        "        plt.show()\n",
        "        s = input('Are you happy with the way this data looks? [y/n] \\n')\n",
        "    return init_data\n",
        "\n",
        "def do_calcs_and_save_errors(sde_obj, name):\n",
        "    if input(f'Do you want to run the gibbs process for {name}? [y/n] \\n').lower() =='y':\n",
        "        sde_obj.run_gibbs()\n",
        "        sde_obj.plot_b_vs_bhat()\n",
        "        sde_obj.find_mse()\n",
        "        sde_obj.find_kolmogorov() #in this function, check if CDF exists and ask to create it if not\n",
        "        mse = sde_obj.return_mse()\n",
        "        kolmo = sde_obj.return_kolmogorov()\n",
        "        sde_obj.data_hist(\"b\")\n",
        "        sde_obj.data_hist(\"bhat\")\n",
        "        sde_obj.plot_shrinkage()\n",
        "        print(f'MSE for {name} = {mse}.\\nKolmogorov Error for {name} = {kolmo}')\n",
        "    \n",
        "        now = datetime.now()\n",
        "        dt_string = now.strftime(\"%d-%m-%Y_%H-%M\")\n",
        "        np.save(f'{name}_MSE_Kolmo_{dt_string}', np.array(mse, kolmo))\n",
        "    else: \n",
        "        raise Exception('Gibbs process cancelled')\n",
        "\n",
        "#function to define gig random variable, even for the edge cases:\n",
        "def gig_rvs(a, b, p, size):\n",
        "    '''\n",
        "    Generate Generalized Inverse Gaussian random variables\n",
        "    \n",
        "    pdf: f(x, a, b, p) = ( (a/b)^{p/2} / (2 K_p(\\sqrt{ab})) ) * x^{p-1} \\exp(-ax + b/x)\n",
        "         where a > 0, b > 0, p is a real number\n",
        "    \n",
        "    when a --> 0, GIG --> InvGamma; \n",
        "    when b --> 0, GIG --> Gamma;\n",
        "    \n",
        "    Special cases:\n",
        "        Gamma(shape=alpha, rate=beta) = GIG(2*beta, 0, alpha)\n",
        "        InvGamma(alpha, beta) = GIG(0, 2*beta, -alpha)\n",
        "        InvGaussian(mu, lambda) = GIG(lambda/mu^2, lambda, −1/2)\n",
        "        Park and Casella’s Lasso(alpha^2) = GIG(alpha^2, 0, 1)\n",
        "    '''\n",
        "    if a == 0 and b == 0:\n",
        "        raise ValueError('GIG can not have input with both a and b being 0')\n",
        "        \n",
        "    if b == 0: # Gamma\n",
        "        shape_gamma = p\n",
        "        rate_gamma = a / 2\n",
        "        rvs = gamma.rvs(a=shape_gamma, scale=1/rate_gamma, size=size)\n",
        "        \n",
        "    if a == 0: # InvGamma\n",
        "        shape_invgamma = -p\n",
        "        scale_invgamma = b / 2\n",
        "        rvs = invgamma.rvs(a=shape_invgamma, scale=scale_invgamma, size=size)\n",
        "        \n",
        "    if a != 0 and b != 0:\n",
        "        p_ss = p\n",
        "        b_ss = np.sqrt(a*b)\n",
        "        scale_ss = np.sqrt(a/b)\n",
        "        rvs = geninvgauss.rvs(p=p_ss, b=b_ss, loc=0, scale=scale_ss, size=size)\n",
        "    \n",
        "    return rvs\n",
        "\n",
        "#a class for running, printing, and calculating error for Generalized inverse gaussian (GIG) prior SDE estimation\n",
        "class Gig:\n",
        "    def __init__(self, init_data, b_func, diffusion, kernel_name = 'gauss', m = 2000, n = 20, gig_params = [2,2,1,0,1]):\n",
        "        self.__init_data = init_data\n",
        "        self.__kernel = self.__set_kernel(kernel_name)\n",
        "        self.__b_func = b_func\n",
        "        self.__gig_params = gig_params #default is a=1 b=0 p=1 for lasso prior (see run_gibbs method)\n",
        "        self.gibbs_iters = 150\n",
        "        self.diffusion = diffusion \n",
        "        self.lambda_mat_record = []\n",
        "        self.beta_record = [] \n",
        "        self.diffusion_est_record = []\n",
        "        #this is based on how the input data was generated:\n",
        "        #I dont have it as an input because all of the data we've generated so far has used t_delta=0.05\n",
        "        self.t_delta = 0.05 \n",
        "        #for generating metric test data later:\n",
        "        #makes sense to keep this as the same value that was used to generate __init_data, though you could probably change it\n",
        "        self.__m = m\n",
        "        self.__n = n\n",
        "        self.__b_mdata = None\n",
        "        self.__bhat_mdata = None\n",
        "        self.__b_cdf = None\n",
        "        self.__bhat_cdf = None\n",
        "        self.__mse = None\n",
        "        self.__kolmogorov = None\n",
        "\n",
        "    #Using the specifications from initialization to set the kernel for the object\n",
        "    def __set_kernel(self, kernel_name):\n",
        "        if kernel_name.lower() == 'gauss':\n",
        "            def kern(x,y): return np.exp(-((x-y)**2)/2)\n",
        "            return kern\n",
        "        if kernel_name.lower() == 'laplace':\n",
        "            def kern(x,y): return np.exp(-abs(x-y)/np.sqrt(2))\n",
        "            return kern\n",
        "        if kernel_name.lower() == 'poly':\n",
        "            order = 3 #TODO: add a way to specify this order when defining the class\n",
        "            def kern(x,y): return np.exp(-abs(x-y)/np.sqrt(2)) (x*y + 1)**order\n",
        "            return kern\n",
        "        \n",
        "    def __create_data(self, s):\n",
        "        t = 0\n",
        "        val = 0\n",
        "        data = []\n",
        "        t_delta = self.t_delta\n",
        "        \n",
        "        if s.lower() == 'b':\n",
        "            def create_next(val):\n",
        "                return val + self.__b_func(val)*t_delta + self.diffusion*np.random.normal(0,np.sqrt(t_delta))\n",
        "            \n",
        "            for i in range(int(self.__m)):\n",
        "                data.append(val)\n",
        "                val = create_next(val)\n",
        "                t += t_delta\n",
        "            return data\n",
        "        \n",
        "        elif s.lower() == 'bhat':\n",
        "            assert self.beta_record != [], \"Error: trying to generate data with bhat before bhat exists.\"\n",
        "            def create_next(val):\n",
        "                #this should change to use the last x% of data samples, not just beta_record[-20:]\n",
        "                return val + self.get_b_hat(val, np.mean(self.beta_record[-20:], axis = 0))*t_delta + self.diffusion*np.random.normal(0,np.sqrt(t_delta))\n",
        "            for i in range(int(self.__m)):\n",
        "                data.append(val)\n",
        "                val = create_next(val)\n",
        "                t += t_delta\n",
        "            return data\n",
        "    \n",
        "    def get_b_hat(self, x, beta_vect):\n",
        "        data = self.__init_data\n",
        "        return np.sum([beta_vect[i]*self.__kernel(x, data[i]) for i in range(len(data)-1)])\n",
        "    \n",
        "    #define the matrix of k-values (kernel output for each possible pair of data points)\n",
        "    #TODO: I want to try to vectorize this function, which will probably dramatically speed up the simulation speeds\n",
        "    def get_k_matrix(self):\n",
        "        data = self.__init_data\n",
        "        k_mat_len = len(data)-1\n",
        "        k_mat = np.zeros((k_mat_len, k_mat_len))\n",
        "        for i in range(k_mat_len):\n",
        "            for j in range(k_mat_len):\n",
        "                k_mat[i][j] = self.__kernel(data[i], data[j])\n",
        "        return np.array(k_mat)\n",
        "    \n",
        "    #create the c vector (pretty self-explanatory what this is)\n",
        "    #TODO: would also be good to vectorize this\n",
        "    def get_c_vect(self):\n",
        "        data = self.__init_data\n",
        "        c_vect = []\n",
        "        for i in range(1, len(data)):\n",
        "            c_vect.append(data[i] - data[i-1])\n",
        "        return np.array(c_vect)\n",
        "    \n",
        "    #returns the variance matrix\n",
        "    #zeta and t_delta come from the formula that was used to create the data set\n",
        "    #in the case of gibbs sampling, zeta changes for each iteration\n",
        "    #once we have a better guess for it\n",
        "    def get_variance_matrix(self, k_mat, zeta, lambda_mat):\n",
        "        #perform calculations, as per the formulas that jinpu derived\n",
        "        part_1 = (self.t_delta/zeta)*(k_mat.T @ k_mat)\n",
        "        part_2 = np.linalg.inv(lambda_mat)\n",
        "        return np.linalg.inv(part_1 + part_2)\n",
        "    \n",
        "    #outputs the vector of mean values for each beta_i\n",
        "    def get_mu_vector(self, variance_matrix, zeta, c_vect, k_mat):\n",
        "        kt_times_c = k_mat.T @ c_vect\n",
        "        return np.matmul(variance_matrix/zeta, kt_times_c)\n",
        "    \n",
        "    def run_gibbs(self, verbose = True):\n",
        "        k_mat = self.get_k_matrix()\n",
        "        c_vect = self.get_c_vect()\n",
        "        data_len= len(self.__init_data)\n",
        "        #TODO add a way to specify these following starting priors; \n",
        "        #right now just set to diffusion = 0.5 and beta = np.zeros()\n",
        "        zeta = 0.5**2 #a scalar (noise coeff)\n",
        "        beta = np.zeros(data_len) #a vector (beta coeffs)\n",
        "        lambda_mat = np.identity(data_len - 1)\n",
        "        \n",
        "        #NOTE: __gig_params in order [c,d,a,b,p] (the last three specify gig.rvs)\n",
        "        c,d,a,b,p = self.__gig_params\n",
        "        c_prime = c + (data_len-1)/2\n",
        "        t_delta = self.t_delta\n",
        "        assert self.lambda_mat_record == [] and self.beta_record == [] and self.diffusion_est_record == [], 'you have already ran the gibbs process for this object; run obj.reset to forget these results'\n",
        "        \n",
        "        for i in range(self.gibbs_iters):\n",
        "            #draw a diagonal matrix of lambda^2 values, using the inverse gamma distribution\n",
        "            #this replaces the 1 values inside of lambda_mat\n",
        "            np.fill_diagonal(lambda_mat, [geninvgauss.rvs(p - 1/2, a ,loc = 0, scale = (beta[i]**2+b)/a) for i in range(data_len - 1)])\n",
        "            #Don't know if this shoul dbe there; it seems to really mess up results:\n",
        "            # lambda_mat = lambda_mat**2 \n",
        "            #use this matrix to compute the matrix and covariance for beta vector\n",
        "            #sample from these values\n",
        "            variance_matrix = self.get_variance_matrix(k_mat, zeta, lambda_mat)\n",
        "            mu_vect = self.get_mu_vector(variance_matrix, zeta, c_vect, k_mat)\n",
        "            beta = np.random.multivariate_normal(mu_vect,variance_matrix)\n",
        "            \n",
        "            #draw a new guess for zeta given the beta and lambda_mat values\n",
        "            #it is an inverse gamme of c_prime and d_prime, defined below\n",
        "            d_prime_1 = (1/(2*t_delta))*np.sum(c_vect**2)\n",
        "            d_prime_2 = t_delta/2* (beta.T @ (k_mat.T @ (k_mat @ beta))) - c_vect.T @ (k_mat @ beta) + d\n",
        "            d_prime = d_prime_1 + d_prime_2\n",
        "            zeta = 1/np.random.gamma(shape = c_prime, scale = 1/d_prime)\n",
        "            \n",
        "            #keeping track of things here\n",
        "            if verbose:\n",
        "               if i%25 == 0:\n",
        "                  print(f'step {i} completed')\n",
        "            self.lambda_mat_record.append(lambda_mat)\n",
        "            self.beta_record.append(beta)\n",
        "            self.diffusion_est_record.append(zeta)\n",
        "    \n",
        "    def set_metric_data_size(self, m):\n",
        "        assert self.__b_mdata != [] and self.__bhat_mdata != [], f'Metric test data has already been generated using m = {self.__m}; manually reset __b_mdata and __bhat_mdata to change m'\n",
        "        self.__m = m\n",
        "            \n",
        "    def __create_mdata(self, s):\n",
        "        #frankly, this could be turned into a single function,instead of calling the hidden funciton too\n",
        "        if 'bhat' in s.strip():\n",
        "            self.__bhat_mdata = self.__create_data(s)[int(self.__m/10):]\n",
        "        elif 'b' in s.strip():\n",
        "            #the indexing at the end is to remove the first 10% of data\n",
        "            self.__b_mdata = self.__create_data(s)[int(self.__m/10):]\n",
        "        else:\n",
        "            raise Exception('invalid keyword for __create_mdata')\n",
        "    \n",
        "    #plots a histogram of the data that is available\n",
        "    def data_hist(self,s):\n",
        "        if 'bhat' == s:\n",
        "            if self.__bhat_mdata != None:\n",
        "                plt.hist(self.__bhat_mdata, bins = 100, density = True)\n",
        "                plt.title(\"bhat generated data histogram\")\n",
        "                plt.show()  \n",
        "            else: raise Exception(\"cannot nake a histogram for data that doesn't exist yet (bhat)\")\n",
        "        elif \"b\" == s:\n",
        "            if self.__b_mdata != None:\n",
        "                plt.hist(self.__b_mdata, bins = 100, density = True)\n",
        "                plt.title(\"true b generated data histogram\")\n",
        "                plt.show()\n",
        "            else:\n",
        "                raise Exception(\"cannot nake a histogram for data that doesn't exist yet (b)\")\n",
        "        elif s.lower() == 'original':\n",
        "            plt.hist(self.__init_data, bins = 100, density = True)\n",
        "            plt.title(\"True b original learning data histogram\")\n",
        "            plt.show()\n",
        "        else:\n",
        "            raise Exception('invalid keyword for data_hist; use \"bhat\", \"b\", or \"original\".')\n",
        "            \n",
        "    def plot_b_vs_bhat(self):\n",
        "        # plotting bhat using the averaged last n values recorded from gibbs\n",
        "        #this code can be changed to be more effecient\n",
        "        \n",
        "        #when sampling the last few values of beta to get bhat, do we \n",
        "        # 1) average n beta vectors, then calc the bhat values using the average, or\n",
        "        #2) calc bhat values for n different beta vectors, and average the bhat values?\n",
        "        #hypothesis: betas are the thing being sampled, so we should average them first.\n",
        "        n = self.__n\n",
        "        x_vals = self.__init_data\n",
        "        last_n_beta_avg = np.mean(np.array(self.beta_record[-n:]), axis = 0)\n",
        "        avgd_beta_est = [self.get_b_hat(x, last_n_beta_avg) for x in x_vals]\n",
        "        plt.scatter(x_vals, avgd_beta_est, c = 'red', label = f'Approximated b, averaged last {n} gibbs samples', s= 2)\n",
        "        plt.scatter(x_vals, [self.__b_func(x) for x in x_vals], c = 'blue', label = 'True b', s= 2)\n",
        "        plt.title(f'graph using GIG Prior (params a,b,p = {self.__gig_params[2:]})')\n",
        "        plt.legend()\n",
        "        plt.show()\n",
        "        \n",
        "    def plot_shrinkage(self):\n",
        "        last_n_beta_avg = np.mean(np.array(self.beta_record[-self.__n:]), axis = 0)\n",
        "        plt.hist(last_n_beta_avg, bins = 50)\n",
        "        plt.title('GIG: final beta sample/shrinkage plot')\n",
        "        plt.show()\n",
        "    \n",
        "    def find_mse(self):\n",
        "        #when sampling the last few values of beta to get bhat, do we \n",
        "        # 1) average n beta vectors, then calc the bhat values using the average, or\n",
        "        #2) calc bhat values for n different beta vectors, and average the bhat values?\n",
        "        #hypothesis: betas are the thing being sampled, so we should average them first.\n",
        "        if self.__mse == None:\n",
        "            n = self.__n\n",
        "            data = self.__init_data\n",
        "            self.__mse = (1/len(data))*np.sum(np.array([self.get_b_hat(x, \n",
        "               np.mean(np.array(self.beta_record[-n:]), axis = 0)) - self.__b_func(x) for x in data])**2)\n",
        "        else: raise Exception('no point recalculating mse error; you can use \"return_mse()\" to output it.')\n",
        "    \n",
        "    def return_mse(self):\n",
        "        return self.__mse\n",
        "    \n",
        "    def __calc_cdf(self, s):\n",
        "        if 'bhat' == s.lower():\n",
        "            self.__bhat_cdf = (1/len(self.__bhat_mdata))*np.array([np.sum(np.where(np.array(self.__bhat_mdata) <= x, 1, 0)) for x in self.__init_data])\n",
        "        elif 'b' == s.lower():\n",
        "            self.__b_cdf = (1/len(self.__b_mdata))*np.array([np.sum(np.where(np.array(self.__b_mdata) <= x, 1, 0)) for x in self.__init_data])\n",
        "        else: \n",
        "            raise Exception('must call __calc_cdf using string \"bhat\" or \"b\".')\n",
        "        \n",
        "    def find_kolmogorov(self):\n",
        "        if self.__kolmogorov == None:\n",
        "            self.__create_mdata('b')\n",
        "            self.__create_mdata('bhat')\n",
        "            self.__calc_cdf('bhat')\n",
        "            self.__calc_cdf('b')\n",
        "            self.__kolmogorov = np.max(np.absolute(self.__b_cdf - self.__bhat_cdf))\n",
        "            \n",
        "    def return_kolmogorov(self):\n",
        "        return self.__kolmogorov\n",
        "    \n",
        "#a very similar class, but now for inverse gamma gibbs smapling, rather than generalized inverse gauss (IG vs GIG)\n",
        "class Ig:\n",
        "    def __init__(self, init_data, b_func, diffusion, kernel_name = 'gauss', m = 2000, n = 20, ig_params = [2,2,1,2]):\n",
        "        self.__init_data = init_data\n",
        "        self.__kernel = self.__set_kernel(kernel_name)\n",
        "        self.__b_func = b_func\n",
        "        self.__ig_params = ig_params #the default is to test the t-prior here\n",
        "        self.gibbs_iters = 150\n",
        "        self.diffusion = diffusion \n",
        "        self.lambda_mat_record = []\n",
        "        self.beta_record = [] \n",
        "        self.diffusion_est_record = []\n",
        "        #this is based on how the input data was generated:\n",
        "        #I dont have it as an input because all of the data we've generated so far has used t_delta=0.05\n",
        "        self.t_delta = 0.05 \n",
        "        #for generating metric test data later:\n",
        "        #makes sense to keep this as the same value that was used to generate __init_data, though you could probably change it\n",
        "        self.__m = m\n",
        "        self.__n = n\n",
        "        self.__b_mdata = None\n",
        "        self.__bhat_mdata = None\n",
        "        self.__b_cdf = None\n",
        "        self.__bhat_cdf = None\n",
        "        self.__mse = None\n",
        "        self.__kolmogorov = None\n",
        "\n",
        "    #Using the specifications from initialization to set the kernel for the object\n",
        "    def __set_kernel(self, kernel_name):\n",
        "        if kernel_name.lower() == 'gauss':\n",
        "            def kern(x,y): return np.exp(-((x-y)**2)/2)\n",
        "            return kern\n",
        "        if kernel_name.lower() == 'laplace':\n",
        "            def kern(x,y): return np.exp(-abs(x-y)/np.sqrt(2))\n",
        "            return kern\n",
        "        if kernel_name.lower() == 'poly':\n",
        "            order = 3 #TODO: add a way to specify this order when defining the class\n",
        "            def kern(x,y): return np.exp(-abs(x-y)/np.sqrt(2)) (x*y + 1)**order\n",
        "            return kern\n",
        "        \n",
        "    def __create_data(self, s):\n",
        "        t = 0\n",
        "        val = 0\n",
        "        data = []\n",
        "        t_delta = self.t_delta\n",
        "        \n",
        "        if s.lower() == 'b':\n",
        "            def create_next(val):\n",
        "                return val + self.__b_func(val)*t_delta + self.diffusion*np.random.normal(0,np.sqrt(t_delta))\n",
        "            \n",
        "            for i in range(int(self.__m)):\n",
        "                data.append(val)\n",
        "                val = create_next(val)\n",
        "                t += t_delta\n",
        "            return data\n",
        "        elif s.lower() == 'bhat':\n",
        "            assert self.beta_record != [], \"Error: trying to generate data with bhat before bhat exists.\"\n",
        "            def create_next(val):\n",
        "                #this should change to use the last x% of data samples, not just beta_record[-20:]\n",
        "                return val + self.get_b_hat(val, np.mean(self.beta_record[-20:], axis = 0))*t_delta + self.diffusion*np.random.normal(0,np.sqrt(t_delta))\n",
        "            for i in range(int(self.__m)):\n",
        "                data.append(val)\n",
        "                val = create_next(val)\n",
        "                t += t_delta\n",
        "            return data\n",
        "    \n",
        "    def get_b_hat(self, x, beta_vect):\n",
        "        data = self.__init_data\n",
        "        return np.sum([beta_vect[i]*self.__kernel(x, data[i]) for i in range(len(data)-1)])\n",
        "    \n",
        "    #define the matrix of k-values (kernel output for each possible pair of data points)\n",
        "    #TODO: I want to try to vectorize this function, which will probably dramatically speed up the simulation speeds\n",
        "    def get_k_matrix(self):\n",
        "        data = self.__init_data\n",
        "        k_mat_len = len(data)-1\n",
        "        k_mat = np.zeros((k_mat_len, k_mat_len))\n",
        "        for i in range(k_mat_len):\n",
        "            for j in range(k_mat_len):\n",
        "                k_mat[i][j] = self.__kernel(data[i], data[j])\n",
        "        return np.array(k_mat)\n",
        "    \n",
        "    #create the c vector (pretty self-explanatory what this is)\n",
        "    #TODO: would also be good to vectorize this\n",
        "    def get_c_vect(self):\n",
        "        data = self.__init_data\n",
        "        c_vect = []\n",
        "        for i in range(1, len(data)):\n",
        "            c_vect.append(data[i] - data[i-1])\n",
        "        return np.array(c_vect)\n",
        "    \n",
        "    #returns the variance matrix\n",
        "    #zeta and t_delta come from the formula that was used to create the data set\n",
        "    #in the case of gibbs sampling, zeta changes for each iteration\n",
        "    #once we have a better guess for it\n",
        "    def get_variance_matrix(self, k_mat, zeta, lambda_mat):\n",
        "        #perform calculations, as per the formulas that jinpu derived\n",
        "        part_1 = (self.t_delta/zeta)*(k_mat.T @ k_mat)\n",
        "        part_2 = np.linalg.inv(lambda_mat)\n",
        "        return np.linalg.inv(part_1 + part_2)\n",
        "    \n",
        "    #outputs the vector of mean values for each beta_i\n",
        "    def get_mu_vector(self, variance_matrix, zeta, c_vect, k_mat):\n",
        "        kt_times_c = k_mat.T @ c_vect\n",
        "        return np.matmul(variance_matrix/zeta, kt_times_c)\n",
        "    \n",
        "    def run_gibbs(self, verbose = True):\n",
        "        k_mat = self.get_k_matrix()\n",
        "        c_vect = self.get_c_vect()\n",
        "        data_len= len(self.__init_data)\n",
        "        #TODO add a way to specify these following starting priors; \n",
        "        #right now just set to diffusion = 0.5 and beta = np.zeros()\n",
        "        zeta = 0.5**2 #a scalar (noise coeff)\n",
        "        beta = np.zeros(data_len) #a vector (beta coeffs)\n",
        "        lambda_mat = np.identity(data_len - 1)\n",
        "        \n",
        "        c,d,a,b = self.__ig_params\n",
        "        c_prime = c + (data_len-1)/2\n",
        "        t_delta = self.t_delta\n",
        "        assert self.lambda_mat_record == [] and self.beta_record == [] and self.diffusion_est_record == [], 'you have already ran the gibbs process for this object; run obj.reset to forget these results'\n",
        "        \n",
        "        for i in range(self.gibbs_iters):\n",
        "            #draw a diagonal matrix of lambda^2 values, using the inverse gamma distribution\n",
        "            #this replaces the 1 values inside of lambda_mat\n",
        "            np.fill_diagonal(lambda_mat, [1/np.random.gamma(a + 1/2, 1/(b + (1/2) * beta[i]**2)) for i in range(data_len - 1)])\n",
        "            #Don't know if this shoul dbe there; it seems to really mess up results:\n",
        "            # lambda_mat = lambda_mat**2 \n",
        "            #use this matrix to compute the matrix and covariance for beta vector\n",
        "            #sample from these values\n",
        "            variance_matrix = self.get_variance_matrix(k_mat, zeta, lambda_mat)\n",
        "            mu_vect = self.get_mu_vector(variance_matrix, zeta, c_vect, k_mat)\n",
        "            beta = np.random.multivariate_normal(mu_vect,variance_matrix)\n",
        "            \n",
        "            #draw a new guess for zeta given the beta and lambda_mat values\n",
        "            #it is an inverse gamme of c_prime and d_prime, defined below\n",
        "            d_prime_1 = (1/(2*t_delta))*np.sum(c_vect**2)\n",
        "            d_prime_2 = t_delta/2* (beta.T @ (k_mat.T @ (k_mat @ beta))) - c_vect.T @ (k_mat @ beta) + d\n",
        "            d_prime = d_prime_1 + d_prime_2\n",
        "            zeta = 1/np.random.gamma(shape = c_prime, scale = 1/d_prime)\n",
        "            \n",
        "            #keeping track of things here\n",
        "            if verbose:\n",
        "                if i%25 == 0:\n",
        "                    print(f'step {i} completed')\n",
        "            self.lambda_mat_record.append(lambda_mat)\n",
        "            self.beta_record.append(beta)\n",
        "            self.diffusion_est_record.append(zeta)\n",
        "        \n",
        "    def set_metric_data_size(self, m):\n",
        "        assert self.__b_mdata != [] and self.__bhat_mdata != [], f'Metric test data has already been generated using m = {self.__m}; manually reset __b_mdata and __bhat_mdata to change m'\n",
        "        self.__m = m\n",
        "            \n",
        "    def __create_mdata(self, s):\n",
        "        #frankly, this could be turned into a singel function,instead of calling the hidden funciton too\n",
        "        if s.lower() == 'b':\n",
        "            #the indexing at the end is to remove the first 10% of data\n",
        "            self.__b_mdata = self.__create_data(s)[int(self.__m/10):]\n",
        "        elif s.lower() == 'bhat':\n",
        "            self.__bhat_mdata = self.__create_data(s)[int(self.__m/10):]\n",
        "        else:\n",
        "            raise Exception('invalid keyword for __create_mdata')\n",
        "    \n",
        "    #plots a histogram of the data that is available\n",
        "    def data_hist(self,s):\n",
        "        if 'bhat' in s.lower():\n",
        "            if self.__bhat_mdata != None:\n",
        "                plt.hist(self.__bhat_mdata, bins = 100, density = True)\n",
        "                plt.title(\"bhat generated data histogram\")\n",
        "                plt.show()    \n",
        "            else: raise Exception(\"cannot nake a histogram for data that doesn't exist yet (bhat)\")\n",
        "        elif 'b' in s.lower():\n",
        "            if self.__b_mdata != None:\n",
        "                plt.hist(self.__b_mdata, bins = 100, density = True)\n",
        "                plt.title(\"true b generated data histogram\")\n",
        "                plt.show()\n",
        "            else: raise Exception(\"cannot nake a histogram for data that doesn't exist yet (b)\")\n",
        "        elif s.lower() == 'original':\n",
        "            plt.hist(self.__init_data, bins = 100, density = True)\n",
        "            plt.title(\"True b learning data histogram\")\n",
        "            plt.show()\n",
        "        else:\n",
        "            raise Exception('invalid keyword for data_hist; use \"bhat\", \"b\", or \"original\".')\n",
        "            \n",
        "    def plot_b_vs_bhat(self):\n",
        "        # plotting bhat using the averaged last n values recorded from gibbs\n",
        "        #this code can be changed to be more effecient\n",
        "        \n",
        "        #when sampling the last few values of beta to get bhat, do we \n",
        "        # 1) average n beta vectors, then calc the bhat values using the average, or\n",
        "        #2) calc bhat values for n different beta vectors, and average the bhat values?\n",
        "        #hypothesis: betas are the thing being sampled, so we should average them first.\n",
        "        n = self.__n\n",
        "        x_vals = self.__init_data\n",
        "        last_n_beta_avg = np.mean(np.array(self.beta_record[-n:]), axis = 0)\n",
        "        avgd_est_func = [self.get_b_hat(x, last_n_beta_avg) for x in x_vals]\n",
        "        plt.scatter(x_vals, avgd_est_func, c = 'red', label = f'Approximated b, averaged last {n} gibbs samples', s=2)\n",
        "        plt.scatter(x_vals, [self.__b_func(x) for x in x_vals], c = 'blue', label = 'True b', s = 2)\n",
        "        plt.title(f'graph using Inverse Gamma prior (params [a, b] = {self.__ig_params[-2:]}')\n",
        "        plt.legend()\n",
        "        plt.show()\n",
        "        \n",
        "    def plot_shrinkage(self):\n",
        "        last_n_beta_avg = np.mean(np.array(self.beta_record[-self.__n:]), axis = 0)\n",
        "        plt.hist(last_n_beta_avg, bins = 50)\n",
        "        plt.title('IG: final beta sample/shrinkage plot')\n",
        "        plt.show()\n",
        "        \n",
        "    def find_mse(self):\n",
        "        #when sampling the last few values of beta to get bhat, do we \n",
        "        # 1) average n beta vectors, then calc the bhat values using the average, or\n",
        "        #2) calc bhat values for n different beta vectors, and average the bhat values?\n",
        "        #hypothesis: betas are the thing being sampled, so we should average them first.\n",
        "        if self.__mse == None:\n",
        "            n = self.__n\n",
        "            data = self.__init_data\n",
        "            self.__mse = (1/len(data))*np.sum(np.array([self.get_b_hat(x, \n",
        "               np.mean(np.array(self.beta_record[-n:]), axis = 0)) - self.__b_func(x) for x in data])**2)\n",
        "        else: \n",
        "            raise Exception('no point recalculating mse error; you can use \"return_mse()\" to output it.')\n",
        "    \n",
        "    def return_mse(self):\n",
        "        return self.__mse\n",
        "    \n",
        "    def __calc_cdf(self, s):\n",
        "        if 'bhat' in s.lower():\n",
        "            self.__bhat_cdf = (1/len(self.__bhat_mdata))*np.array([np.sum(np.where(np.array(self.__bhat_mdata) <= x, 1, 0)) for x in self.__init_data])\n",
        "        elif 'b' in s.lower():\n",
        "            self.__b_cdf = (1/len(self.__b_mdata))*np.array([np.sum(np.where(np.array(self.__b_mdata) <= x, 1, 0)) for x in self.__init_data])\n",
        "        \n",
        "        else: raise Exception('must call __calc_cdf using string \"bhat\" or \"b\".')\n",
        "        \n",
        "    def find_kolmogorov(self):\n",
        "        if self.__kolmogorov == None:\n",
        "            self.__create_mdata('b')\n",
        "            self.__create_mdata('bhat')\n",
        "            self.__calc_cdf('bhat')\n",
        "            self.__calc_cdf('b')\n",
        "            self.__kolmogorov = np.max(np.absolute(self.__b_cdf - self.__bhat_cdf))\n",
        "            \n",
        "    def return_kolmogorov(self):\n",
        "        return self.__kolmogorov\n",
        "\n",
        "#a very similar class, but now for inverse gamma gibbs smapling, rather than generalized inverse gauss (IG vs GIG)\n",
        "class Shoe:\n",
        "    def __init__(self, init_data, b_func, diffusion, kernel_name = 'gauss', m = 2000, n = 20):\n",
        "        self.__init_data = init_data\n",
        "        self.__kernel = self.__set_kernel(kernel_name)\n",
        "        self.__b_func = b_func\n",
        "        self.gibbs_iters = 150\n",
        "        self.diffusion = diffusion \n",
        "        self.lambda_mat_record = []\n",
        "        self.beta_record = [] \n",
        "        self.diffusion_est_record = []\n",
        "        #this is based on how the input data was generated:\n",
        "        #I dont have it as an input because all of the data we've generated so far has used t_delta=0.05\n",
        "        self.t_delta = 0.05 \n",
        "        #for generating metric test data later:\n",
        "        #makes sense to keep this as the same value that was used to generate __init_data, though you could probably change it\n",
        "        self.__m = m\n",
        "        self.__n = n\n",
        "        self.__b_mdata = None\n",
        "        self.__bhat_mdata = None\n",
        "        self.__b_cdf = None\n",
        "        self.__bhat_cdf = None\n",
        "        self.__mse = None\n",
        "        self.__kolmogorov = None\n",
        "\n",
        "    #Using the specifications from initialization to set the kernel for the object\n",
        "    def __set_kernel(self, kernel_name):\n",
        "        if kernel_name.lower() == 'gauss':\n",
        "            def kern(x,y): return np.exp(-((x-y)**2)/2)\n",
        "            return kern\n",
        "        if kernel_name.lower() == 'laplace':\n",
        "            def kern(x,y): return np.exp(-abs(x-y)/np.sqrt(2))\n",
        "            return kern\n",
        "        if kernel_name.lower() == 'poly':\n",
        "            order = 3 #TODO: add a way to specify this order when defining the class\n",
        "            def kern(x,y): return np.exp(-abs(x-y)/np.sqrt(2)) (x*y + 1)**order\n",
        "            return kern\n",
        "        \n",
        "    def __create_data(self, s):\n",
        "        t = 0\n",
        "        val = 0\n",
        "        data = []\n",
        "        t_delta = self.t_delta\n",
        "        \n",
        "        if s.lower() == 'b':\n",
        "            def create_next(val):\n",
        "                return val + self.__b_func(val)*t_delta + self.diffusion*np.random.normal(0,np.sqrt(t_delta))\n",
        "            \n",
        "            for i in range(int(self.__m)):\n",
        "                data.append(val)\n",
        "                val = create_next(val)\n",
        "                t += t_delta\n",
        "            return data\n",
        "        elif s.lower() == 'bhat':\n",
        "            assert self.beta_record != [], \"Error: trying to generate data with bhat before bhat exists.\"\n",
        "            def create_next(val):\n",
        "                #this should change to use the last x% of data samples, not just beta_record[-20:]\n",
        "                return val + self.get_b_hat(val, np.mean(self.beta_record[-20:], axis = 0))*t_delta + self.diffusion*np.random.normal(0,np.sqrt(t_delta))\n",
        "            for i in range(int(self.__m)):\n",
        "                data.append(val)\n",
        "                val = create_next(val)\n",
        "                t += t_delta\n",
        "            return data\n",
        "    \n",
        "    def get_b_hat(self, x, beta_vect):\n",
        "        data = self.__init_data\n",
        "        return np.sum([beta_vect[i]*self.__kernel(x, data[i]) for i in range(len(data)-1)])\n",
        "    \n",
        "    #define the matrix of k-values (kernel output for each possible pair of data points)\n",
        "    #TODO: I want to try to vectorize this function, which will probably dramatically speed up the simulation speeds\n",
        "    def get_k_matrix(self):\n",
        "        data = self.__init_data\n",
        "        k_mat_len = len(data)-1\n",
        "        k_mat = np.zeros((k_mat_len, k_mat_len))\n",
        "        for i in range(k_mat_len):\n",
        "            for j in range(k_mat_len):\n",
        "                k_mat[i][j] = self.__kernel(data[i], data[j])\n",
        "        return np.array(k_mat)\n",
        "    \n",
        "    #create the c vector (pretty self-explanatory what this is)\n",
        "    #TODO: would also be good to vectorize this\n",
        "    def get_c_vect(self):\n",
        "        data = self.__init_data\n",
        "        c_vect = []\n",
        "        for i in range(1, len(data)):\n",
        "            c_vect.append(data[i] - data[i-1])\n",
        "        return np.array(c_vect)\n",
        "    \n",
        "    #returns the variance matrix\n",
        "    #zeta and t_delta come from the formula that was used to create the data set\n",
        "    #in the case of gibbs sampling, zeta changes for each iteration\n",
        "    #once we have a better guess for it\n",
        "    def get_variance_matrix(self, k_mat, zeta, lambda_mat):\n",
        "        #perform calculations, as per the formulas that jinpu derived\n",
        "        part_1 = (self.t_delta/zeta)*(k_mat.T @ k_mat)\n",
        "        part_2 = np.linalg.inv(lambda_mat)\n",
        "        return np.linalg.inv(part_1 + part_2)\n",
        "    \n",
        "    #outputs the vector of mean values for each beta_i\n",
        "    def get_mu_vector(self, variance_matrix, zeta, c_vect, k_mat):\n",
        "        kt_times_c = k_mat.T @ c_vect\n",
        "        return np.matmul(variance_matrix/zeta, kt_times_c)\n",
        "    \n",
        "    def run_gibbs(self, verbose = True):\n",
        "        k_mat = self.get_k_matrix()\n",
        "        c_vect = self.get_c_vect()\n",
        "        data_len= len(self.__init_data)\n",
        "        #TODO add a way to specify these following starting priors; \n",
        "        #right now just set to diffusion = 0.5 and beta = np.zeros()\n",
        "        zeta_sq = 1/np.random.gamma(1, 1/2) #The noise coefficient (squared), prior is from inverse gamma (a = 1, b = 2; these are not specific)\n",
        "        #new variables for the gibbs process\n",
        "        xi = np.random.gamma(1/2,1) \n",
        "        eps = np.array([np.random.gamma(1/2, 1) for i in range(data_len- 1)])\n",
        "        tau_sq = 1/np.random.gamma(1/2, xi)\n",
        "        lambda_mat = np.identity(data_len - 1)\n",
        "        #classic beta vector and lambda matrix for gibbs:\n",
        "        np.fill_diagonal(lambda_mat, [1/np.random.gamma(1/2, eps[i]) for i in range(data_len - 1)])\n",
        "        beta = np.array([np.random.normal(0,lambda_mat[i,i]*tau_sq) for i in range(data_len - 1)]) #a vector (beta coeffs)  \n",
        "        #idk if these next variables are right; I made them up to fit the code but they could be improper\n",
        "        a, c, d = 0.5, 1, 1\n",
        "        c_prime = c + (data_len-1)/2 \n",
        "        t_delta = self.t_delta\n",
        "        assert self.lambda_mat_record == [] and self.beta_record == [] and self.diffusion_est_record == [], 'you have already ran the gibbs process for this object; run obj.reset to forget these results'\n",
        "        \n",
        "        for i in range(self.gibbs_iters):\n",
        "            #draw a diagonal matrix of lambda^2 values, using the inverse gamma distribution\n",
        "            #this replaces the 1 values inside of lambda_mat\n",
        "            np.fill_diagonal(lambda_mat, [1/np.random.gamma(1, 1/(1/eps[i] + (1/2)*tau_sq*beta[i]**2)) for i in range(data_len - 1)])\n",
        "            #Don't know if this shoul dbe there; it seems to really mess up results:\n",
        "            # lambda_mat = lambda_mat**2 \n",
        "            #use this matrix to compute the matrix and covariance for beta vector\n",
        "            #sample from these values\n",
        "            variance_matrix = self.get_variance_matrix(k_mat, zeta_sq, lambda_mat)\n",
        "            mu_vect = self.get_mu_vector(variance_matrix, zeta_sq, c_vect, k_mat)\n",
        "            beta = np.random.multivariate_normal(mu_vect,variance_matrix)\n",
        "            \n",
        "            #draw a new guess for zeta_sq given the beta and lambda_mat values\n",
        "            #it is an inverse gamme of c_prime and d_prime, defined below\n",
        "            d_prime_1 = (1/(2*t_delta))*np.sum(c_vect**2)\n",
        "            d_prime_2 = t_delta/2* (beta.T @ (k_mat.T @ (k_mat @ beta))) - c_vect.T @ (k_mat @ beta) + d\n",
        "            d_prime = d_prime_1 + d_prime_2\n",
        "            zeta_sq = 1/np.random.gamma(shape = c_prime, scale = 1/d_prime)\n",
        "            \n",
        "            #new variable changes\n",
        "            tau_arg2 = max([0.0001,1/(1/2*np.sum(np.array([beta[i]/lambda_mat[i,i] for i in range(data_len - 1)]))+1/xi)])\n",
        "            tau_sq = 1/np.random.gamma(data_len/2, tau_arg2)\n",
        "            eps = np.array([1/np.random.gamma(1, 1/(1/lambda_mat[i,i] + 1)) for i in range(data_len - 1)])\n",
        "            xi = 1/np.random.gamma(1, 1/(1/tau_sq + 1))\n",
        "\n",
        "            #keeping track of things here\n",
        "            if verbose:\n",
        "                if i%25 == 0:\n",
        "                    print(f'step {i} completed')\n",
        "            self.lambda_mat_record.append(lambda_mat)\n",
        "            self.beta_record.append(beta)\n",
        "            self.diffusion_est_record.append(zeta_sq)\n",
        "        \n",
        "    def set_metric_data_size(self, m):\n",
        "        assert self.__b_mdata != [] and self.__bhat_mdata != [], f'Metric test data has already been generated using m = {self.__m}; manually reset __b_mdata and __bhat_mdata to change m'\n",
        "        self.__m = m\n",
        "            \n",
        "    def __create_mdata(self, s):\n",
        "        #frankly, this could be turned into a singel function,instead of calling the hidden funciton too\n",
        "        if s.lower() == 'b':\n",
        "            #the indexing at the end is to remove the first 10% of data\n",
        "            self.__b_mdata = self.__create_data(s)[int(self.__m/10):]\n",
        "        elif s.lower() == 'bhat':\n",
        "            self.__bhat_mdata = self.__create_data(s)[int(self.__m/10):]\n",
        "        else:\n",
        "            raise Exception('invalid keyword for __create_mdata')\n",
        "    \n",
        "    #plots a histogram of the data that is available\n",
        "    def data_hist(self,s):\n",
        "        if 'bhat' in s.lower():\n",
        "            if self.__bhat_mdata != None:\n",
        "                plt.hist(self.__bhat_mdata, bins = 100, density = True)\n",
        "                plt.title(\"bhat generated data histogram\")\n",
        "                plt.show()    \n",
        "            else: raise Exception(\"cannot nake a histogram for data that doesn't exist yet (bhat)\")\n",
        "        elif 'b' in s.lower():\n",
        "            if self.__b_mdata != None:\n",
        "                plt.hist(self.__b_mdata, bins = 100, density = True)\n",
        "                plt.title(\"true b generated data histogram\")\n",
        "                plt.show()\n",
        "            else: raise Exception(\"cannot nake a histogram for data that doesn't exist yet (b)\")\n",
        "        elif s.lower() == 'original':\n",
        "            plt.hist(self.__init_data, bins = 100, density = True)\n",
        "            plt.title(\"True b learning data histogram\")\n",
        "            plt.show()\n",
        "        else:\n",
        "            raise Exception('invalid keyword for data_hist; use \"bhat\", \"b\", or \"original\".')\n",
        "            \n",
        "    def plot_b_vs_bhat(self):\n",
        "        # plotting bhat using the averaged last n values recorded from gibbs\n",
        "        #this code can be changed to be more effecient\n",
        "        \n",
        "        #when sampling the last few values of beta to get bhat, do we \n",
        "        # 1) average n beta vectors, then calc the bhat values using the average, or\n",
        "        #2) calc bhat values for n different beta vectors, and average the bhat values?\n",
        "        #hypothesis: betas are the thing being sampled, so we should average them first.\n",
        "        n = self.__n\n",
        "        x_vals = self.__init_data\n",
        "        last_n_beta_avg = np.mean(np.array(self.beta_record[-n:]), axis = 0)\n",
        "        avgd_est_func = [self.get_b_hat(x, last_n_beta_avg) for x in x_vals]\n",
        "        plt.scatter(x_vals, avgd_est_func, c = 'red', label = f'Approximated b, averaged last {n} gibbs samples', s=2)\n",
        "        plt.scatter(x_vals, [self.__b_func(x) for x in x_vals], c = 'blue', label = 'True b', s = 2)\n",
        "        plt.title(f'graph using Horseshoe Prior')\n",
        "        plt.legend()\n",
        "        plt.show()\n",
        "        \n",
        "    def plot_shrinkage(self):\n",
        "        last_n_beta_avg = np.mean(np.array(self.beta_record[-self.__n:]), axis = 0)\n",
        "        plt.hist(last_n_beta_avg, bins = 50)\n",
        "        plt.title('Horseshoe: final beta sample/shrinkage plot')\n",
        "        plt.show()\n",
        "        \n",
        "    def find_mse(self):\n",
        "        #when sampling the last few values of beta to get bhat, do we \n",
        "        # 1) average n beta vectors, then calc the bhat values using the average, or\n",
        "        #2) calc bhat values for n different beta vectors, and average the bhat values?\n",
        "        #hypothesis: betas are the thing being sampled, so we should average them first.\n",
        "        if self.__mse == None:\n",
        "            n = self.__n\n",
        "            data = self.__init_data\n",
        "            self.__mse = (1/len(data))*np.sum(np.array([self.get_b_hat(x, \n",
        "               np.mean(np.array(self.beta_record[-n:]), axis = 0)) - self.__b_func(x) for x in data])**2)\n",
        "        else: \n",
        "            raise Exception('no point recalculating mse error; you can use \"return_mse()\" to output it.')\n",
        "    \n",
        "    def return_mse(self):\n",
        "        return self.__mse\n",
        "    \n",
        "    def __calc_cdf(self, s):\n",
        "        if 'bhat' in s.lower():\n",
        "            self.__bhat_cdf = (1/len(self.__bhat_mdata))*np.array([np.sum(np.where(np.array(self.__bhat_mdata) <= x, 1, 0)) for x in self.__init_data])\n",
        "        elif 'b' in s.lower():\n",
        "            self.__b_cdf = (1/len(self.__b_mdata))*np.array([np.sum(np.where(np.array(self.__b_mdata) <= x, 1, 0)) for x in self.__init_data])\n",
        "        \n",
        "        else: raise Exception('must call __calc_cdf using string \"bhat\" or \"b\".')\n",
        "        \n",
        "    def find_kolmogorov(self):\n",
        "        if self.__kolmogorov == None:\n",
        "            self.__create_mdata('b')\n",
        "            self.__create_mdata('bhat')\n",
        "            self.__calc_cdf('bhat')\n",
        "            self.__calc_cdf('b')\n",
        "            self.__kolmogorov = np.max(np.absolute(self.__b_cdf - self.__bhat_cdf))\n",
        "            \n",
        "    def return_kolmogorov(self):\n",
        "        return self.__kolmogorov"
      ]
    },
    {
      "cell_type": "code",
      "source": [
        "#for general use: code that does n runs of the gibbs process and returns the mse/kol values!\n",
        "def avg_n(n, init_data, b, diffusion, Cls):\n",
        "  trials = n\n",
        "  mse = np.zeros(trials)\n",
        "  kol = np.zeros(trials)\n",
        "  for i in range(trials):\n",
        "    print(f'run {i}')\n",
        "    sde_obj = Cls(init_data, b, diffusion)\n",
        "    sde_obj.run_gibbs(verbose = False)\n",
        "    sde_obj.find_mse()\n",
        "    sde_obj.find_kolmogorov()\n",
        "    mse[i] = sde_obj.return_mse()\n",
        "    kol[i] = sde_obj.return_kolmogorov()\n",
        "  #plotting the shrinkage graph for the last of the ten runs\n",
        "  sde_obj.plot_shrinkage()\n",
        "  return mse, kol\n",
        "\n",
        "def run_all_processes(params):\n",
        "    results = {}\n",
        "    grid = [(func_name, init_data, b, diffusion, Cls) for func_name, init_data, b, diffusion in params for Cls in [Gig, Ig, Shoe]]\n",
        "    for func_name, init_data, b, diffusion, Cls in grid:\n",
        "        print(f'with b = {func_name} and Cls = {Cls}...')\n",
        "        #need to write mse and kolmo values to some dataframe (dict for now) to view it\n",
        "        mse, kol = avg_n(5, init_data, b, diffusion, Cls)\n",
        "        if Cls == Ig: id = func_name + '; Ig'\n",
        "        elif Cls == Gig: id = func_name + '; Gig'\n",
        "        elif Cls == Shoe: id = func_name + '; Shoe'\n",
        "        results[id] = mse, kol\n",
        "    return results\n",
        "\n",
        "#quick wrapper for generating data and showing histogram\n",
        "def gen_data_and_hist(b, diff):\n",
        "    init_data = create_data(diff, b, 0.05, 50, 0)\n",
        "    plt.hist(init_data, bins = 100, density = True)\n",
        "    plt.show()\n",
        "    return init_data\n",
        "#function for making the list of params to run through the run_all_processes function\n",
        "#basically, for each b, find a diffusion coefficient and data set that looks good and add them to the list\n",
        "#input is a 2d array (nx2) where each entry is [b,diffusion] (there are n number of b functions we are looking at)\n",
        "def make_params(b_diff_list):\n",
        "    params = []\n",
        "    for func_name, b, diff in b_diff_list:\n",
        "        init_data = gen_data_and_hist(b, diff)\n",
        "        while True:\n",
        "            s = input('Enter \"y\" to use this data, \"n\" to make data again with this diffusion, \\nor a number from 0.1 - 1.5 to make new data with diff = num: ')\n",
        "            if s == 'y':\n",
        "                break\n",
        "            elif s == 'n':\n",
        "                init_data = gen_data_and_hist(b, diff)\n",
        "            elif float(s) <= 1.5 and float(s) >= 0.1:\n",
        "                diff = float(s)\n",
        "                init_data = gen_data_and_hist(b, diff)\n",
        "        params.append([func_name, init_data, b, diff])\n",
        "    return params\n",
        "\n",
        "b_diff_list = [['b = -x', lambda x: -x, 1],\n",
        "               ['b = 4*(x-x**3)', lambda x: 4*(x-x**3), 0.8],\n",
        "               ['b = -(x**3)/(1+x**2)', lambda x: -(x**3)/(1+x**2), 0.2],\n",
        "               ['b = -x*(1 + 0.5*np.sin(x))', lambda x: -x*(1 + 0.5*np.sin(x)), 0.2],\n",
        "               ['b = 4*(1-x*(np.sin(x)**2 + 0.1))', lambda x: 4*(1-x*(np.sin(x)**2 + 0.1)), 0.5]]\n",
        "\n",
        "params = make_params(b_diff_list)\n",
        "results = run_all_processes(params)"
      ],
      "metadata": {
        "colab": {
          "base_uri": "https://localhost:8080/",
          "height": 713
        },
        "id": "NJSN56vQu7OD",
        "outputId": "0d8eaac2-11f7-444d-8213-5dcab299e7c6"
      },
      "execution_count": null,
      "outputs": [
        {
          "output_type": "display_data",
          "data": {
            "text/plain": [
              "<Figure size 432x288 with 1 Axes>"
            ],
            "image/png": "[encoded data removed]"
          },
          "metadata": {
            "needs_background": "light"
          }
        },
        {
          "output_type": "error",
          "ename": "KeyboardInterrupt",
          "evalue": "ignored",
          "traceback": [
            "\u001b[0;31m---------------------------------------------------------------------------\u001b[0m",
            "\u001b[0;31mKeyboardInterrupt\u001b[0m                         Traceback (most recent call last)",
            "\u001b[0;32m<ipython-input-2-76cb42be74b3>\u001b[0m in \u001b[0;36m<module>\u001b[0;34m\u001b[0m\n\u001b[1;32m     60\u001b[0m                ['b = 4*(1-x*(np.sin(x)**2 + 0.1))', lambda x: 4*(1-x*(np.sin(x)**2 + 0.1)), 0.5]]\n\u001b[1;32m     61\u001b[0m \u001b[0;34m\u001b[0m\u001b[0m\n\u001b[0;32m---> 62\u001b[0;31m \u001b[0mparams\u001b[0m \u001b[0;34m=\u001b[0m \u001b[0mmake_params\u001b[0m\u001b[0;34m(\u001b[0m\u001b[0mb_diff_list\u001b[0m\u001b[0;34m)\u001b[0m\u001b[0;34m\u001b[0m\u001b[0;34m\u001b[0m\u001b[0m\n\u001b[0m\u001b[1;32m     63\u001b[0m \u001b[0mresults\u001b[0m \u001b[0;34m=\u001b[0m \u001b[0mrun_all_processes\u001b[0m\u001b[0;34m(\u001b[0m\u001b[0mparams\u001b[0m\u001b[0;34m)\u001b[0m\u001b[0;34m\u001b[0m\u001b[0;34m\u001b[0m\u001b[0m\n",
            "\u001b[0;32m<ipython-input-2-76cb42be74b3>\u001b[0m in \u001b[0;36mmake_params\u001b[0;34m(b_diff_list)\u001b[0m\n\u001b[1;32m     43\u001b[0m         \u001b[0minit_data\u001b[0m \u001b[0;34m=\u001b[0m \u001b[0mgen_data_and_hist\u001b[0m\u001b[0;34m(\u001b[0m\u001b[0mb\u001b[0m\u001b[0;34m,\u001b[0m \u001b[0mdiff\u001b[0m\u001b[0;34m)\u001b[0m\u001b[0;34m\u001b[0m\u001b[0;34m\u001b[0m\u001b[0m\n\u001b[1;32m     44\u001b[0m         \u001b[0;32mwhile\u001b[0m \u001b[0;32mTrue\u001b[0m\u001b[0;34m:\u001b[0m\u001b[0;34m\u001b[0m\u001b[0;34m\u001b[0m\u001b[0m\n\u001b[0;32m---> 45\u001b[0;31m             \u001b[0ms\u001b[0m \u001b[0;34m=\u001b[0m \u001b[0minput\u001b[0m\u001b[0;34m(\u001b[0m\u001b[0;34m'Enter \"y\" to use this data, \"n\" to make data again with this diffusion, \\nor a number from 0.1 - 1.5 to make new data with diff = num: '\u001b[0m\u001b[0;34m)\u001b[0m\u001b[0;34m\u001b[0m\u001b[0;34m\u001b[0m\u001b[0m\n\u001b[0m\u001b[1;32m     46\u001b[0m             \u001b[0;32mif\u001b[0m \u001b[0ms\u001b[0m \u001b[0;34m==\u001b[0m \u001b[0;34m'y'\u001b[0m\u001b[0;34m:\u001b[0m\u001b[0;34m\u001b[0m\u001b[0;34m\u001b[0m\u001b[0m\n\u001b[1;32m     47\u001b[0m                 \u001b[0;32mbreak\u001b[0m\u001b[0;34m\u001b[0m\u001b[0;34m\u001b[0m\u001b[0m\n",
            "\u001b[0;32m/usr/local/lib/python3.7/dist-packages/ipykernel/kernelbase.py\u001b[0m in \u001b[0;36mraw_input\u001b[0;34m(self, prompt)\u001b[0m\n\u001b[1;32m    861\u001b[0m             \u001b[0mself\u001b[0m\u001b[0;34m.\u001b[0m\u001b[0m_parent_ident\u001b[0m\u001b[0;34m,\u001b[0m\u001b[0;34m\u001b[0m\u001b[0;34m\u001b[0m\u001b[0m\n\u001b[1;32m    862\u001b[0m             \u001b[0mself\u001b[0m\u001b[0;34m.\u001b[0m\u001b[0m_parent_header\u001b[0m\u001b[0;34m,\u001b[0m\u001b[0;34m\u001b[0m\u001b[0;34m\u001b[0m\u001b[0m\n\u001b[0;32m--> 863\u001b[0;31m             \u001b[0mpassword\u001b[0m\u001b[0;34m=\u001b[0m\u001b[0;32mFalse\u001b[0m\u001b[0;34m,\u001b[0m\u001b[0;34m\u001b[0m\u001b[0;34m\u001b[0m\u001b[0m\n\u001b[0m\u001b[1;32m    864\u001b[0m         )\n\u001b[1;32m    865\u001b[0m \u001b[0;34m\u001b[0m\u001b[0m\n",
            "\u001b[0;32m/usr/local/lib/python3.7/dist-packages/ipykernel/kernelbase.py\u001b[0m in \u001b[0;36m_input_request\u001b[0;34m(self, prompt, ident, parent, password)\u001b[0m\n\u001b[1;32m    902\u001b[0m             \u001b[0;32mexcept\u001b[0m \u001b[0mKeyboardInterrupt\u001b[0m\u001b[0;34m:\u001b[0m\u001b[0;34m\u001b[0m\u001b[0;34m\u001b[0m\u001b[0m\n\u001b[1;32m    903\u001b[0m                 \u001b[0;31m# re-raise KeyboardInterrupt, to truncate traceback\u001b[0m\u001b[0;34m\u001b[0m\u001b[0;34m\u001b[0m\u001b[0;34m\u001b[0m\u001b[0m\n\u001b[0;32m--> 904\u001b[0;31m                 \u001b[0;32mraise\u001b[0m \u001b[0mKeyboardInterrupt\u001b[0m\u001b[0;34m(\u001b[0m\u001b[0;34m\"Interrupted by user\"\u001b[0m\u001b[0;34m)\u001b[0m \u001b[0;32mfrom\u001b[0m \u001b[0;32mNone\u001b[0m\u001b[0;34m\u001b[0m\u001b[0;34m\u001b[0m\u001b[0m\n\u001b[0m\u001b[1;32m    905\u001b[0m             \u001b[0;32mexcept\u001b[0m \u001b[0mException\u001b[0m \u001b[0;32mas\u001b[0m \u001b[0me\u001b[0m\u001b[0;34m:\u001b[0m\u001b[0;34m\u001b[0m\u001b[0;34m\u001b[0m\u001b[0m\n\u001b[1;32m    906\u001b[0m                 \u001b[0mself\u001b[0m\u001b[0;34m.\u001b[0m\u001b[0mlog\u001b[0m\u001b[0;34m.\u001b[0m\u001b[0mwarning\u001b[0m\u001b[0;34m(\u001b[0m\u001b[0;34m\"Invalid Message:\"\u001b[0m\u001b[0;34m,\u001b[0m \u001b[0mexc_info\u001b[0m\u001b[0;34m=\u001b[0m\u001b[0;32mTrue\u001b[0m\u001b[0;34m)\u001b[0m\u001b[0;34m\u001b[0m\u001b[0;34m\u001b[0m\u001b[0m\n",
            "\u001b[0;31mKeyboardInterrupt\u001b[0m: Interrupted by user"
          ]
        }
      ]
    },
    {
      "cell_type": "code",
      "source": [
        "# for k, v in results.items():\n",
        "#     print(k + ': \\nAvg MSE was ', np.mean(v[0]), ' \\nAvg kolmogorov err was ', np.mean(v[1]), '\\n')\n",
        "\n",
        "mse = np.array([np.mean(v[0]) for v in results.values()])\n",
        "kolmo = np.array([np.mean(v[1]) for v in results.values()])\n",
        "\n",
        "# set width of bar\n",
        "barWidth = 0.2\n",
        "fig = plt.subplots(figsize =(16, 8))\n",
        " \n",
        "# Set position of bar on X axis\n",
        "centers = np.arange(len(mse)/2)\n",
        "br1 = [x - barWidth/2 for x in centers]\n",
        "br2 = [x + barWidth for x in br1]\n",
        "br3 = [x + barWidth for x in br2]\n",
        "br4 = [x + barWidth for x in br3]\n",
        "\n",
        "# print(mse[::2], '\\n', mse[1::2], '\\n', kolmo[::2],'\\n', kolmo[1::2])\n",
        "\n",
        "# Make the plot\n",
        "plt.bar(br1, mse[::2], color ='g', width = barWidth,\n",
        "        edgecolor ='white', label ='Lasso MSE')\n",
        "plt.bar(br2, kolmo[::2], color ='b', width = barWidth,\n",
        "        edgecolor ='white', label ='Lasso Kolmogorov')\n",
        "plt.bar(br3, mse[1::2], color ='g', width = barWidth,\n",
        "        edgecolor ='white', label ='T-Prior MSE', hatch = 'X')\n",
        "plt.bar(br4, kolmo[1::2], color ='b', width = barWidth,\n",
        "        edgecolor ='white', label ='T-prior Kolmogorov', hatch = 'X')\n",
        " \n",
        "# Adding Xticks\n",
        "plt.xlabel('Function b(x)', fontweight ='bold', fontsize = 15)\n",
        "plt.ylabel('Error Value', fontweight ='bold', fontsize = 15)\n",
        "plt.xticks([r + 0.2 for r in range(int(len(mse)/2))],\n",
        "        [i[0] for i in b_diff_list])\n",
        " \n",
        "plt.legend()\n",
        "plt.show()\n",
        "# with open('restulsOct7.npy', 'wb') as f:\n",
        "#     np.save(f, results) "
      ],
      "metadata": {
        "colab": {
          "base_uri": "https://localhost:8080/",
          "height": 249
        },
        "id": "tW9fqcZwQVvM",
        "outputId": "954de209-11e0-46fd-c89a-7fb87948599e"
      },
      "execution_count": null,
      "outputs": [
        {
          "output_type": "error",
          "ename": "NameError",
          "evalue": "ignored",
          "traceback": [
            "\u001b[0;31m---------------------------------------------------------------------------\u001b[0m",
            "\u001b[0;31mNameError\u001b[0m                                 Traceback (most recent call last)",
            "\u001b[0;32m<ipython-input-3-7069fb9ad6bb>\u001b[0m in \u001b[0;36m<module>\u001b[0;34m\u001b[0m\n\u001b[1;32m      2\u001b[0m \u001b[0;31m#     print(k + ': \\nAvg MSE was ', np.mean(v[0]), ' \\nAvg kolmogorov err was ', np.mean(v[1]), '\\n')\u001b[0m\u001b[0;34m\u001b[0m\u001b[0;34m\u001b[0m\u001b[0;34m\u001b[0m\u001b[0m\n\u001b[1;32m      3\u001b[0m \u001b[0;34m\u001b[0m\u001b[0m\n\u001b[0;32m----> 4\u001b[0;31m \u001b[0mmse\u001b[0m \u001b[0;34m=\u001b[0m \u001b[0mnp\u001b[0m\u001b[0;34m.\u001b[0m\u001b[0marray\u001b[0m\u001b[0;34m(\u001b[0m\u001b[0;34m[\u001b[0m\u001b[0mnp\u001b[0m\u001b[0;34m.\u001b[0m\u001b[0mmean\u001b[0m\u001b[0;34m(\u001b[0m\u001b[0mv\u001b[0m\u001b[0;34m[\u001b[0m\u001b[0;36m0\u001b[0m\u001b[0;34m]\u001b[0m\u001b[0;34m)\u001b[0m \u001b[0;32mfor\u001b[0m \u001b[0mv\u001b[0m \u001b[0;32min\u001b[0m \u001b[0mresults\u001b[0m\u001b[0;34m.\u001b[0m\u001b[0mvalues\u001b[0m\u001b[0;34m(\u001b[0m\u001b[0;34m)\u001b[0m\u001b[0;34m]\u001b[0m\u001b[0;34m)\u001b[0m\u001b[0;34m\u001b[0m\u001b[0;34m\u001b[0m\u001b[0m\n\u001b[0m\u001b[1;32m      5\u001b[0m \u001b[0mkolmo\u001b[0m \u001b[0;34m=\u001b[0m \u001b[0mnp\u001b[0m\u001b[0;34m.\u001b[0m\u001b[0marray\u001b[0m\u001b[0;34m(\u001b[0m\u001b[0;34m[\u001b[0m\u001b[0mnp\u001b[0m\u001b[0;34m.\u001b[0m\u001b[0mmean\u001b[0m\u001b[0;34m(\u001b[0m\u001b[0mv\u001b[0m\u001b[0;34m[\u001b[0m\u001b[0;36m1\u001b[0m\u001b[0;34m]\u001b[0m\u001b[0;34m)\u001b[0m \u001b[0;32mfor\u001b[0m \u001b[0mv\u001b[0m \u001b[0;32min\u001b[0m \u001b[0mresults\u001b[0m\u001b[0;34m.\u001b[0m\u001b[0mvalues\u001b[0m\u001b[0;34m(\u001b[0m\u001b[0;34m)\u001b[0m\u001b[0;34m]\u001b[0m\u001b[0;34m)\u001b[0m\u001b[0;34m\u001b[0m\u001b[0;34m\u001b[0m\u001b[0m\n\u001b[1;32m      6\u001b[0m \u001b[0;34m\u001b[0m\u001b[0m\n",
            "\u001b[0;31mNameError\u001b[0m: name 'results' is not defined"
          ]
        }
      ]
    },
    {
      "cell_type": "code",
      "source": [
        "# mse = np.array([np.mean(v[0]) for v in results.values()])\n",
        "kolmo = np.array([np.mean(v[1]) for v in results.values()])\n",
        "print(kolmo, kolmo.shape)\n",
        "# set width of bar\n",
        "barWidth = 0.2\n",
        "fig = plt.subplots(figsize =(16, 8))\n",
        " \n",
        "# Set position of bar on X axis\n",
        "centers = np.arange(len(mse)/2)\n",
        "br1 = [x - barWidth/2 for x in centers]\n",
        "br2 = [x + barWidth for x in br1]\n",
        "br3 = [x + barWidth for x in br2]\n",
        "br4 = [x + barWidth for x in br3]\n",
        "\n",
        "# print(mse[::2], '\\n', mse[1::2], '\\n', kolmo[::2],'\\n', kolmo[1::2])\n",
        "\n",
        "# Make the plot\n",
        "plt.bar(br1, kolmo[::3], color ='b', width = barWidth,\n",
        "        edgecolor ='white', label ='Lasso Kolmogorov')\n",
        "plt.bar(br2, kolmo[1::3], color ='g', width = barWidth,\n",
        "        edgecolor ='white', label ='T-prior Kolmogorov')\n",
        "plt.bar(br3, kolmo[2::3], color ='p', width = barWidth,\n",
        "        edgecolor ='white', label ='Horshoe Kolmogorov')\n",
        " \n",
        "# Adding Xticks\n",
        "plt.xlabel('Function b(x)', fontweight ='bold', fontsize = 15)\n",
        "plt.ylabel('Error Value', fontweight ='bold', fontsize = 15)\n",
        "plt.xticks([r + 0.2 for r in range(int(len(mse)/2))],\n",
        "        [i[0] for i in b_diff_list])\n",
        " \n",
        "plt.legend()\n",
        "plt.show()"
      ],
      "metadata": {
        "colab": {
          "base_uri": "https://localhost:8080/",
          "height": 959
        },
        "id": "YPd75i9vxvTv",
        "outputId": "a01f988a-7612-417f-8c4a-7b6dc0d7ac4a"
      },
      "execution_count": null,
      "outputs": [
        {
          "output_type": "stream",
          "name": "stdout",
          "text": [
            "[0.25722222 0.16544444 0.15666667 0.21       0.16077778 0.38877778\n",
            " 0.359      0.38655556 0.37088889 0.11144444 0.08577778 0.11144444\n",
            " 0.06766667 0.04266667 0.05066667] (15,)\n"
          ]
        },
        {
          "output_type": "error",
          "ename": "ValueError",
          "evalue": "ignored",
          "traceback": [
            "\u001b[0;31m---------------------------------------------------------------------------\u001b[0m",
            "\u001b[0;31mValueError\u001b[0m                                Traceback (most recent call last)",
            "\u001b[0;32m<ipython-input-25-ee30521ab34d>\u001b[0m in \u001b[0;36m<module>\u001b[0;34m\u001b[0m\n\u001b[1;32m     17\u001b[0m \u001b[0;31m# Make the plot\u001b[0m\u001b[0;34m\u001b[0m\u001b[0;34m\u001b[0m\u001b[0;34m\u001b[0m\u001b[0m\n\u001b[1;32m     18\u001b[0m plt.bar(br1, kolmo[::3], color ='b', width = barWidth,\n\u001b[0;32m---> 19\u001b[0;31m         edgecolor ='white', label ='Lasso Kolmogorov')\n\u001b[0m\u001b[1;32m     20\u001b[0m plt.bar(br2, kolmo[1::3], color ='g', width = barWidth,\n\u001b[1;32m     21\u001b[0m         edgecolor ='white', label ='T-prior Kolmogorov')\n",
            "\u001b[0;32m/usr/local/lib/python3.7/dist-packages/matplotlib/pyplot.py\u001b[0m in \u001b[0;36mbar\u001b[0;34m(x, height, width, bottom, align, data, **kwargs)\u001b[0m\n\u001b[1;32m   2407\u001b[0m     return gca().bar(\n\u001b[1;32m   2408\u001b[0m         \u001b[0mx\u001b[0m\u001b[0;34m,\u001b[0m \u001b[0mheight\u001b[0m\u001b[0;34m,\u001b[0m \u001b[0mwidth\u001b[0m\u001b[0;34m=\u001b[0m\u001b[0mwidth\u001b[0m\u001b[0;34m,\u001b[0m \u001b[0mbottom\u001b[0m\u001b[0;34m=\u001b[0m\u001b[0mbottom\u001b[0m\u001b[0;34m,\u001b[0m \u001b[0malign\u001b[0m\u001b[0;34m=\u001b[0m\u001b[0malign\u001b[0m\u001b[0;34m,\u001b[0m\u001b[0;34m\u001b[0m\u001b[0;34m\u001b[0m\u001b[0m\n\u001b[0;32m-> 2409\u001b[0;31m         **({\"data\": data} if data is not None else {}), **kwargs)\n\u001b[0m\u001b[1;32m   2410\u001b[0m \u001b[0;34m\u001b[0m\u001b[0m\n\u001b[1;32m   2411\u001b[0m \u001b[0;34m\u001b[0m\u001b[0m\n",
            "\u001b[0;32m/usr/local/lib/python3.7/dist-packages/matplotlib/__init__.py\u001b[0m in \u001b[0;36minner\u001b[0;34m(ax, data, *args, **kwargs)\u001b[0m\n\u001b[1;32m   1563\u001b[0m     \u001b[0;32mdef\u001b[0m \u001b[0minner\u001b[0m\u001b[0;34m(\u001b[0m\u001b[0max\u001b[0m\u001b[0;34m,\u001b[0m \u001b[0;34m*\u001b[0m\u001b[0margs\u001b[0m\u001b[0;34m,\u001b[0m \u001b[0mdata\u001b[0m\u001b[0;34m=\u001b[0m\u001b[0;32mNone\u001b[0m\u001b[0;34m,\u001b[0m \u001b[0;34m**\u001b[0m\u001b[0mkwargs\u001b[0m\u001b[0;34m)\u001b[0m\u001b[0;34m:\u001b[0m\u001b[0;34m\u001b[0m\u001b[0;34m\u001b[0m\u001b[0m\n\u001b[1;32m   1564\u001b[0m         \u001b[0;32mif\u001b[0m \u001b[0mdata\u001b[0m \u001b[0;32mis\u001b[0m \u001b[0;32mNone\u001b[0m\u001b[0;34m:\u001b[0m\u001b[0;34m\u001b[0m\u001b[0;34m\u001b[0m\u001b[0m\n\u001b[0;32m-> 1565\u001b[0;31m             \u001b[0;32mreturn\u001b[0m \u001b[0mfunc\u001b[0m\u001b[0;34m(\u001b[0m\u001b[0max\u001b[0m\u001b[0;34m,\u001b[0m \u001b[0;34m*\u001b[0m\u001b[0mmap\u001b[0m\u001b[0;34m(\u001b[0m\u001b[0msanitize_sequence\u001b[0m\u001b[0;34m,\u001b[0m \u001b[0margs\u001b[0m\u001b[0;34m)\u001b[0m\u001b[0;34m,\u001b[0m \u001b[0;34m**\u001b[0m\u001b[0mkwargs\u001b[0m\u001b[0;34m)\u001b[0m\u001b[0;34m\u001b[0m\u001b[0;34m\u001b[0m\u001b[0m\n\u001b[0m\u001b[1;32m   1566\u001b[0m \u001b[0;34m\u001b[0m\u001b[0m\n\u001b[1;32m   1567\u001b[0m         \u001b[0mbound\u001b[0m \u001b[0;34m=\u001b[0m \u001b[0mnew_sig\u001b[0m\u001b[0;34m.\u001b[0m\u001b[0mbind\u001b[0m\u001b[0;34m(\u001b[0m\u001b[0max\u001b[0m\u001b[0;34m,\u001b[0m \u001b[0;34m*\u001b[0m\u001b[0margs\u001b[0m\u001b[0;34m,\u001b[0m \u001b[0;34m**\u001b[0m\u001b[0mkwargs\u001b[0m\u001b[0;34m)\u001b[0m\u001b[0;34m\u001b[0m\u001b[0;34m\u001b[0m\u001b[0m\n",
            "\u001b[0;32m/usr/local/lib/python3.7/dist-packages/matplotlib/axes/_axes.py\u001b[0m in \u001b[0;36mbar\u001b[0;34m(self, x, height, width, bottom, align, **kwargs)\u001b[0m\n\u001b[1;32m   2340\u001b[0m         x, height, width, y, linewidth = np.broadcast_arrays(\n\u001b[1;32m   2341\u001b[0m             \u001b[0;31m# Make args iterable too.\u001b[0m\u001b[0;34m\u001b[0m\u001b[0;34m\u001b[0m\u001b[0;34m\u001b[0m\u001b[0m\n\u001b[0;32m-> 2342\u001b[0;31m             np.atleast_1d(x), height, width, y, linewidth)\n\u001b[0m\u001b[1;32m   2343\u001b[0m \u001b[0;34m\u001b[0m\u001b[0m\n\u001b[1;32m   2344\u001b[0m         \u001b[0;31m# Now that units have been converted, set the tick locations.\u001b[0m\u001b[0;34m\u001b[0m\u001b[0;34m\u001b[0m\u001b[0;34m\u001b[0m\u001b[0m\n",
            "\u001b[0;32m<__array_function__ internals>\u001b[0m in \u001b[0;36mbroadcast_arrays\u001b[0;34m(*args, **kwargs)\u001b[0m\n",
            "\u001b[0;32m/usr/local/lib/python3.7/dist-packages/numpy/lib/stride_tricks.py\u001b[0m in \u001b[0;36mbroadcast_arrays\u001b[0;34m(subok, *args)\u001b[0m\n\u001b[1;32m    536\u001b[0m     \u001b[0margs\u001b[0m \u001b[0;34m=\u001b[0m \u001b[0;34m[\u001b[0m\u001b[0mnp\u001b[0m\u001b[0;34m.\u001b[0m\u001b[0marray\u001b[0m\u001b[0;34m(\u001b[0m\u001b[0m_m\u001b[0m\u001b[0;34m,\u001b[0m \u001b[0mcopy\u001b[0m\u001b[0;34m=\u001b[0m\u001b[0;32mFalse\u001b[0m\u001b[0;34m,\u001b[0m \u001b[0msubok\u001b[0m\u001b[0;34m=\u001b[0m\u001b[0msubok\u001b[0m\u001b[0;34m)\u001b[0m \u001b[0;32mfor\u001b[0m \u001b[0m_m\u001b[0m \u001b[0;32min\u001b[0m \u001b[0margs\u001b[0m\u001b[0;34m]\u001b[0m\u001b[0;34m\u001b[0m\u001b[0;34m\u001b[0m\u001b[0m\n\u001b[1;32m    537\u001b[0m \u001b[0;34m\u001b[0m\u001b[0m\n\u001b[0;32m--> 538\u001b[0;31m     \u001b[0mshape\u001b[0m \u001b[0;34m=\u001b[0m \u001b[0m_broadcast_shape\u001b[0m\u001b[0;34m(\u001b[0m\u001b[0;34m*\u001b[0m\u001b[0margs\u001b[0m\u001b[0;34m)\u001b[0m\u001b[0;34m\u001b[0m\u001b[0;34m\u001b[0m\u001b[0m\n\u001b[0m\u001b[1;32m    539\u001b[0m \u001b[0;34m\u001b[0m\u001b[0m\n\u001b[1;32m    540\u001b[0m     \u001b[0;32mif\u001b[0m \u001b[0mall\u001b[0m\u001b[0;34m(\u001b[0m\u001b[0marray\u001b[0m\u001b[0;34m.\u001b[0m\u001b[0mshape\u001b[0m \u001b[0;34m==\u001b[0m \u001b[0mshape\u001b[0m \u001b[0;32mfor\u001b[0m \u001b[0marray\u001b[0m \u001b[0;32min\u001b[0m \u001b[0margs\u001b[0m\u001b[0;34m)\u001b[0m\u001b[0;34m:\u001b[0m\u001b[0;34m\u001b[0m\u001b[0;34m\u001b[0m\u001b[0m\n",
            "\u001b[0;32m/usr/local/lib/python3.7/dist-packages/numpy/lib/stride_tricks.py\u001b[0m in \u001b[0;36m_broadcast_shape\u001b[0;34m(*args)\u001b[0m\n\u001b[1;32m    418\u001b[0m     \u001b[0;31m# use the old-iterator because np.nditer does not handle size 0 arrays\u001b[0m\u001b[0;34m\u001b[0m\u001b[0;34m\u001b[0m\u001b[0;34m\u001b[0m\u001b[0m\n\u001b[1;32m    419\u001b[0m     \u001b[0;31m# consistently\u001b[0m\u001b[0;34m\u001b[0m\u001b[0;34m\u001b[0m\u001b[0;34m\u001b[0m\u001b[0m\n\u001b[0;32m--> 420\u001b[0;31m     \u001b[0mb\u001b[0m \u001b[0;34m=\u001b[0m \u001b[0mnp\u001b[0m\u001b[0;34m.\u001b[0m\u001b[0mbroadcast\u001b[0m\u001b[0;34m(\u001b[0m\u001b[0;34m*\u001b[0m\u001b[0margs\u001b[0m\u001b[0;34m[\u001b[0m\u001b[0;34m:\u001b[0m\u001b[0;36m32\u001b[0m\u001b[0;34m]\u001b[0m\u001b[0;34m)\u001b[0m\u001b[0;34m\u001b[0m\u001b[0;34m\u001b[0m\u001b[0m\n\u001b[0m\u001b[1;32m    421\u001b[0m     \u001b[0;31m# unfortunately, it cannot handle 32 or more arguments directly\u001b[0m\u001b[0;34m\u001b[0m\u001b[0;34m\u001b[0m\u001b[0;34m\u001b[0m\u001b[0m\n\u001b[1;32m    422\u001b[0m     \u001b[0;32mfor\u001b[0m \u001b[0mpos\u001b[0m \u001b[0;32min\u001b[0m \u001b[0mrange\u001b[0m\u001b[0;34m(\u001b[0m\u001b[0;36m32\u001b[0m\u001b[0;34m,\u001b[0m \u001b[0mlen\u001b[0m\u001b[0;34m(\u001b[0m\u001b[0margs\u001b[0m\u001b[0;34m)\u001b[0m\u001b[0;34m,\u001b[0m \u001b[0;36m31\u001b[0m\u001b[0;34m)\u001b[0m\u001b[0;34m:\u001b[0m\u001b[0;34m\u001b[0m\u001b[0;34m\u001b[0m\u001b[0m\n",
            "\u001b[0;31mValueError\u001b[0m: shape mismatch: objects cannot be broadcast to a single shape"
          ]
        },
        {
          "output_type": "display_data",
          "data": {
            "text/plain": [
              "<Figure size 1152x576 with 1 Axes>"
            ],
            "image/png": "[encoded data removed]"
          },
          "metadata": {
            "needs_background": "light"
          }
        }
      ]
    },
    {
      "cell_type": "code",
      "source": [
        "np.save('my_file.npy', results) "
      ],
      "metadata": {
        "id": "bGRpgVdBw3Pd"
      },
      "execution_count": null,
      "outputs": []
    },
    {
      "cell_type": "code",
      "source": [
        "#running for b(x) = sin(x)\n",
        "t_end = 50\n",
        "  \n",
        "# diffusion = 1.\n",
        "# def b(val): return np.sin(val)\n",
        "# init_data = check_start_data(b, diffusion, t_end)\n",
        "\n",
        "# gig_sin = Gig(init_data, b, diffusion)\n",
        "# do_calcs_and_save_errors(gig_sin, 'GIG_sin')\n",
        "# ig_sin = Ig(init_data, b, diffusion)\n",
        "# do_calcs_and_save_errors(ig_sin, 'T-prior_sin')"
      ],
      "metadata": {
        "id": "2YhTRENsZcTm"
      },
      "execution_count": null,
      "outputs": []
    },
    {
      "cell_type": "code",
      "source": [
        "#running for b(x) = 4(x-x^3)\n",
        "t_end = 50\n",
        "  \n",
        "# diffusion = 0.8\n",
        "# def b(val): return 4*(val-val**3)\n",
        "# init_data = check_start_data(b, diffusion, t_end)\n",
        "\n",
        "# gig_sin = Gig(init_data, b, diffusion)\n",
        "# do_calcs_and_save_errors(gig_sin, 'GIG_sin')\n",
        "# ig_sin = Ig(init_data, b, diffusion)\n",
        "# do_calcs_and_save_errors(ig_sin, 'T-prior_sin')"
      ],
      "metadata": {
        "id": "KoIq2ZRZsB2g"
      },
      "execution_count": null,
      "outputs": []
    },
    {
      "cell_type": "code",
      "source": [
        "#@title Double Well data setup\n",
        "#Setting up the data for the double well (run the cells below once you generate data you are happy with)\n",
        "\n",
        "t_end = 50\n",
        "\n",
        "diffusion = 0.75\n",
        "def b(val): return 3*val*(1-val**2)\n",
        "init_data = check_start_data(b, diffusion, t_end)"
      ],
      "metadata": {
        "id": "bMFY8im_aCt2"
      },
      "execution_count": null,
      "outputs": []
    },
    {
      "cell_type": "code",
      "source": [
        "#@title Double Well Gibbs Process + Graphing\n",
        "gig_dw = Gig(init_data, b, diffusion)\n",
        "do_calcs_and_save_errors(gig_dw, 'GIG_doubleWell')\n",
        "ig_dw = Ig(init_data, b, diffusion)\n",
        "do_calcs_and_save_errors(ig_dw, 'T-prior_doubleWell')"
      ],
      "metadata": {
        "colab": {
          "base_uri": "https://localhost:8080/",
          "height": 1000
        },
        "id": "KjBAs-yVZl7V",
        "outputId": "ba008a10-2282-4bf7-a6e1-24f484fa78ff"
      },
      "execution_count": null,
      "outputs": [
        {
          "output_type": "display_data",
          "data": {
            "text/plain": [
              "<Figure size 432x288 with 1 Axes>"
            ],
            "image/png": "[encoded data removed]"
          },
          "metadata": {
            "needs_background": "light"
          }
        },
        {
          "name": "stdout",
          "output_type": "stream",
          "text": [
            "Are you happy with the way this data looks? [y/n]\n",
            "n\n"
          ]
        },
        {
          "output_type": "display_data",
          "data": {
            "text/plain": [
              "<Figure size 432x288 with 1 Axes>"
            ],
            "image/png": "[encoded data removed]"
          },
          "metadata": {
            "needs_background": "light"
          }
        },
        {
          "name": "stdout",
          "output_type": "stream",
          "text": [
            "Are you happy with the way this data looks? [y/n] \n",
            "n\n"
          ]
        },
        {
          "output_type": "display_data",
          "data": {
            "text/plain": [
              "<Figure size 432x288 with 1 Axes>"
            ],
            "image/png": "[encoded data removed]"
          },
          "metadata": {
            "needs_background": "light"
          }
        },
        {
          "name": "stdout",
          "output_type": "stream",
          "text": [
            "Are you happy with the way this data looks? [y/n] \n",
            "n\n"
          ]
        },
        {
          "output_type": "display_data",
          "data": {
            "text/plain": [
              "<Figure size 432x288 with 1 Axes>"
            ],
            "image/png": "[encoded data removed]"
          },
          "metadata": {
            "needs_background": "light"
          }
        },
        {
          "name": "stdout",
          "output_type": "stream",
          "text": [
            "Are you happy with the way this data looks? [y/n] \n",
            "n\n"
          ]
        },
        {
          "output_type": "display_data",
          "data": {
            "text/plain": [
              "<Figure size 432x288 with 1 Axes>"
            ],
            "image/png": "[encoded data removed]"
          },
          "metadata": {
            "needs_background": "light"
          }
        },
        {
          "name": "stdout",
          "output_type": "stream",
          "text": [
            "Are you happy with the way this data looks? [y/n] \n",
            "n\n"
          ]
        },
        {
          "output_type": "display_data",
          "data": {
            "text/plain": [
              "<Figure size 432x288 with 1 Axes>"
            ],
            "image/png": "[encoded data removed]"
          },
          "metadata": {
            "needs_background": "light"
          }
        },
        {
          "name": "stdout",
          "output_type": "stream",
          "text": [
            "Are you happy with the way this data looks? [y/n] \n",
            "n\n"
          ]
        },
        {
          "output_type": "display_data",
          "data": {
            "text/plain": [
              "<Figure size 432x288 with 1 Axes>"
            ],
            "image/png": "[encoded data removed]"
          },
          "metadata": {
            "needs_background": "light"
          }
        },
        {
          "name": "stdout",
          "output_type": "stream",
          "text": [
            "Are you happy with the way this data looks? [y/n] \n",
            "n\n"
          ]
        },
        {
          "output_type": "display_data",
          "data": {
            "text/plain": [
              "<Figure size 432x288 with 1 Axes>"
            ],
            "image/png": "[encoded data removed]"
          },
          "metadata": {
            "needs_background": "light"
          }
        },
        {
          "output_type": "stream",
          "name": "stdout",
          "text": [
            "Are you happy with the way this data looks? [y/n] \n",
            "y\n",
            "Do you want to run the gibbs process for GIG_doubleWell? [y/n] \n",
            "y\n",
            "step 0 completed\n"
          ]
        },
        {
          "output_type": "stream",
          "name": "stderr",
          "text": [
            "/usr/local/lib/python3.7/dist-packages/ipykernel_launcher.py:186: RuntimeWarning: covariance is not positive-semidefinite.\n"
          ]
        },
        {
          "output_type": "stream",
          "name": "stdout",
          "text": [
            "step 25 completed\n",
            "step 50 completed\n",
            "step 75 completed\n",
            "step 100 completed\n",
            "step 125 completed\n"
          ]
        },
        {
          "output_type": "display_data",
          "data": {
            "text/plain": [
              "<Figure size 432x288 with 1 Axes>"
            ],
            "image/png": "[encoded data removed]"
          },
          "metadata": {
            "needs_background": "light"
          }
        },
        {
          "output_type": "display_data",
          "data": {
            "text/plain": [
              "<Figure size 432x288 with 1 Axes>"
            ],
            "image/png": "[encoded data removed]"
          },
          "metadata": {
            "needs_background": "light"
          }
        },
        {
          "output_type": "display_data",
          "data": {
            "text/plain": [
              "<Figure size 432x288 with 1 Axes>"
            ],
            "image/png": "[encoded data removed]"
          },
          "metadata": {
            "needs_background": "light"
          }
        },
        {
          "output_type": "display_data",
          "data": {
            "text/plain": [
              "<Figure size 432x288 with 1 Axes>"
            ],
            "image/png": "[encoded data removed]"
          },
          "metadata": {
            "needs_background": "light"
          }
        },
        {
          "output_type": "display_data",
          "data": {
            "text/plain": [
              "<Figure size 432x288 with 1 Axes>"
            ],
            "image/png": "[encoded data removed]"
          },
          "metadata": {
            "needs_background": "light"
          }
        },
        {
          "output_type": "display_data",
          "data": {
            "text/plain": [
              "<Figure size 432x288 with 1 Axes>"
            ],
            "image/png": "[encoded data removed]"
          },
          "metadata": {
            "needs_background": "light"
          }
        },
        {
          "output_type": "display_data",
          "data": {
            "text/plain": [
              "<Figure size 432x288 with 1 Axes>"
            ],
            "image/png": "[encoded data removed]"
          },
          "metadata": {
            "needs_background": "light"
          }
        },
        {
          "name": "stdout",
          "output_type": "stream",
          "text": [
            "MSE for GIG_doubleWell = 0.10994433776473972.\n",
            "Kolmogorov Error for GIG_doubleWell = 0.4605555555555555\n",
            "Do you want to run the gibbs process for T-prior_doubleWell? [y/n] \n",
            "n\n"
          ]
        },
        {
          "output_type": "error",
          "ename": "Exception",
          "evalue": "ignored",
          "traceback": [
            "\u001b[0;31m---------------------------------------------------------------------------\u001b[0m",
            "\u001b[0;31mException\u001b[0m                                 Traceback (most recent call last)",
            "\u001b[0;32m<ipython-input-4-c056166e2d41>\u001b[0m in \u001b[0;36m<module>\u001b[0;34m\u001b[0m\n\u001b[1;32m      8\u001b[0m \u001b[0mdo_calcs_and_save_errors\u001b[0m\u001b[0;34m(\u001b[0m\u001b[0mgig_dw\u001b[0m\u001b[0;34m,\u001b[0m \u001b[0;34m'GIG_doubleWell'\u001b[0m\u001b[0;34m)\u001b[0m\u001b[0;34m\u001b[0m\u001b[0;34m\u001b[0m\u001b[0m\n\u001b[1;32m      9\u001b[0m \u001b[0mig_dw\u001b[0m \u001b[0;34m=\u001b[0m \u001b[0mIg\u001b[0m\u001b[0;34m(\u001b[0m\u001b[0minit_data\u001b[0m\u001b[0;34m,\u001b[0m \u001b[0mb\u001b[0m\u001b[0;34m,\u001b[0m \u001b[0mdiffusion\u001b[0m\u001b[0;34m)\u001b[0m\u001b[0;34m\u001b[0m\u001b[0;34m\u001b[0m\u001b[0m\n\u001b[0;32m---> 10\u001b[0;31m \u001b[0mdo_calcs_and_save_errors\u001b[0m\u001b[0;34m(\u001b[0m\u001b[0mig_dw\u001b[0m\u001b[0;34m,\u001b[0m \u001b[0;34m'T-prior_doubleWell'\u001b[0m\u001b[0;34m)\u001b[0m\u001b[0;34m\u001b[0m\u001b[0;34m\u001b[0m\u001b[0m\n\u001b[0m",
            "\u001b[0;32m<ipython-input-2-573e43144447>\u001b[0m in \u001b[0;36mdo_calcs_and_save_errors\u001b[0;34m(sde_obj, name)\u001b[0m\n\u001b[1;32m     50\u001b[0m         \u001b[0mnp\u001b[0m\u001b[0;34m.\u001b[0m\u001b[0msave\u001b[0m\u001b[0;34m(\u001b[0m\u001b[0;34mf'{name}_MSE_Kolmo_{dt_string}'\u001b[0m\u001b[0;34m,\u001b[0m \u001b[0mnp\u001b[0m\u001b[0;34m.\u001b[0m\u001b[0marray\u001b[0m\u001b[0;34m(\u001b[0m\u001b[0mmse\u001b[0m\u001b[0;34m,\u001b[0m \u001b[0mkolmo\u001b[0m\u001b[0;34m)\u001b[0m\u001b[0;34m)\u001b[0m\u001b[0;34m\u001b[0m\u001b[0;34m\u001b[0m\u001b[0m\n\u001b[1;32m     51\u001b[0m     \u001b[0;32melse\u001b[0m\u001b[0;34m:\u001b[0m\u001b[0;34m\u001b[0m\u001b[0;34m\u001b[0m\u001b[0m\n\u001b[0;32m---> 52\u001b[0;31m         \u001b[0;32mraise\u001b[0m \u001b[0mException\u001b[0m\u001b[0;34m(\u001b[0m\u001b[0;34m'Gibbs process cancelled'\u001b[0m\u001b[0;34m)\u001b[0m\u001b[0;34m\u001b[0m\u001b[0;34m\u001b[0m\u001b[0m\n\u001b[0m\u001b[1;32m     53\u001b[0m \u001b[0;34m\u001b[0m\u001b[0m\n\u001b[1;32m     54\u001b[0m \u001b[0;34m\u001b[0m\u001b[0m\n",
            "\u001b[0;31mException\u001b[0m: Gibbs process cancelled"
          ]
        }
      ]
    },
    {
      "cell_type": "code",
      "source": [
        "diffusion = 0.8\n",
        "def b(val): return 3*val*(1-val**2)\n",
        "t_end = 50\n",
        "init_data = check_start_data(b, diffusion, t_end)\n",
        "\n",
        "shoe_well = Shoe(init_data, b, diffusion)\n",
        "do_calcs_and_save_errors(shoe_well, 'Shoe_well')"
      ],
      "metadata": {
        "id": "EhTMWdvxZm9k",
        "colab": {
          "base_uri": "https://localhost:8080/",
          "height": 1000
        },
        "outputId": "574b1e7b-d14a-406e-dbd4-634c8e94a048"
      },
      "execution_count": null,
      "outputs": [
        {
          "output_type": "display_data",
          "data": {
            "text/plain": [
              "<Figure size 432x288 with 1 Axes>"
            ],
            "image/png": "[encoded data removed]"
          },
          "metadata": {
            "needs_background": "light"
          }
        },
        {
          "name": "stdout",
          "output_type": "stream",
          "text": [
            "Are you happy with the way this data looks? [y/n]\n",
            "n\n"
          ]
        },
        {
          "output_type": "display_data",
          "data": {
            "text/plain": [
              "<Figure size 432x288 with 1 Axes>"
            ],
            "image/png": "[encoded data removed]"
          },
          "metadata": {
            "needs_background": "light"
          }
        },
        {
          "name": "stdout",
          "output_type": "stream",
          "text": [
            "Are you happy with the way this data looks? [y/n] \n",
            "y\n",
            "Do you want to run the gibbs process for Shoe_well? [y/n] \n",
            "y\n"
          ]
        },
        {
          "output_type": "stream",
          "name": "stderr",
          "text": [
            "/usr/local/lib/python3.7/dist-packages/ipykernel_launcher.py:671: RuntimeWarning: covariance is not positive-semidefinite.\n"
          ]
        },
        {
          "output_type": "stream",
          "name": "stdout",
          "text": [
            "step 0 completed\n",
            "step 25 completed\n",
            "step 50 completed\n",
            "step 75 completed\n",
            "step 100 completed\n",
            "step 125 completed\n"
          ]
        },
        {
          "output_type": "display_data",
          "data": {
            "text/plain": [
              "<Figure size 432x288 with 1 Axes>"
            ],
            "image/png": "[encoded data removed]"
          },
          "metadata": {
            "needs_background": "light"
          }
        },
        {
          "output_type": "display_data",
          "data": {
            "text/plain": [
              "<Figure size 432x288 with 1 Axes>"
            ],
            "image/png": "[encoded data removed]"
          },
          "metadata": {
            "needs_background": "light"
          }
        },
        {
          "output_type": "display_data",
          "data": {
            "text/plain": [
              "<Figure size 432x288 with 1 Axes>"
            ],
            "image/png": "[encoded data removed]"
          },
          "metadata": {
            "needs_background": "light"
          }
        },
        {
          "output_type": "display_data",
          "data": {
            "text/plain": [
              "<Figure size 432x288 with 1 Axes>"
            ],
            "image/png": "[encoded data removed]"
          },
          "metadata": {
            "needs_background": "light"
          }
        },
        {
          "output_type": "stream",
          "name": "stdout",
          "text": [
            "MSE for Shoe_well = 0.05946837561508175.\n",
            "Kolmogorov Error for Shoe_well = 0.125\n"
          ]
        }
      ]
    },
    {
      "cell_type": "code",
      "source": [],
      "metadata": {
        "id": "bYbIt5ScOFjl"
      },
      "execution_count": null,
      "outputs": []
    }
  ]
}